{
 "cells": [
  {
   "cell_type": "code",
   "execution_count": 1,
   "id": "cadcb037-bb16-4ef5-b307-01cdef6b7902",
   "metadata": {},
   "outputs": [],
   "source": [
    "#request\n",
    "#json\n",
    "import requests\n",
    "import json"
   ]
  },
  {
   "cell_type": "code",
   "execution_count": 2,
   "id": "dc2fb564-4ca4-45a3-b730-f7cbc23a9490",
   "metadata": {},
   "outputs": [
    {
     "data": {
      "text/plain": [
       "<Response [200]>"
      ]
     },
     "execution_count": 2,
     "metadata": {},
     "output_type": "execute_result"
    }
   ],
   "source": [
    "url=\"https://pharmeasy.in/api/otc/getCategoryProducts?categoryId=902&page=2\"\n",
    "req=requests.get(url)\n",
    "req"
   ]
  },
  {
   "cell_type": "code",
   "execution_count": 3,
   "id": "b2b87060-d6e5-49d0-8761-33154336da2d",
   "metadata": {},
   "outputs": [
    {
     "data": {
      "text/plain": [
       "dict_keys(['status', 'data'])"
      ]
     },
     "execution_count": 3,
     "metadata": {},
     "output_type": "execute_result"
    }
   ],
   "source": [
    "js=req.json()\n",
    "js.keys()"
   ]
  },
  {
   "cell_type": "code",
   "execution_count": 4,
   "id": "6bec5738-b4c5-4771-8865-ee664711d357",
   "metadata": {},
   "outputs": [
    {
     "data": {
      "text/plain": [
       "dict_keys(['products', 'meta', 'queryParams'])"
      ]
     },
     "execution_count": 4,
     "metadata": {},
     "output_type": "execute_result"
    }
   ],
   "source": [
    "js['data'].keys()"
   ]
  },
  {
   "cell_type": "code",
   "execution_count": 5,
   "id": "586f23cd-c0c0-4c0d-832c-176df7b23915",
   "metadata": {},
   "outputs": [
    {
     "data": {
      "text/plain": [
       "{'productId': 3124008,\n",
       " 'name': 'The Skin Story Keratin Body Lotion Smart Technology Uv Protection 280 Ml',\n",
       " 'slug': 'the-skin-story-keratin-body-lotion-smart-technology-uv-protection---280-ml-3124008',\n",
       " 'manufacturer': 'THE SKIN STORY',\n",
       " 'productType': 2,\n",
       " 'mrpDecimal': '349.00',\n",
       " 'salePriceDecimal': '272.22',\n",
       " 'discountDecimal': '76.78',\n",
       " 'discountPercent': '22',\n",
       " 'categoryId': None,\n",
       " 'damImages': [{'url': 'https://cdn01.pharmeasy.in/dam/products_otc/M97232/the-skin-story-keratin-body-lotion-smart-technology-uv-protection-280-ml-2-1653471346.jpg',\n",
       "   'face': 'front',\n",
       "   'sequence': '2'},\n",
       "  {'url': 'https://cdn01.pharmeasy.in/dam/products_otc/M97232/the-skin-story-keratin-body-lotion-smart-technology-uv-protection-280-ml-6.1-1653471338.jpg',\n",
       "   'face': 'side',\n",
       "   'sequence': '6.1'},\n",
       "  {'url': 'https://cdn01.pharmeasy.in/dam/products_otc/M97232/the-skin-story-keratin-body-lotion-smart-technology-uv-protection-280-ml-6.2-1653471299.jpg',\n",
       "   'face': 'side',\n",
       "   'sequence': '6.2'},\n",
       "  {'url': 'https://cdn01.pharmeasy.in/dam/products_otc/M97232/the-skin-story-keratin-body-lotion-smart-technology-uv-protection-280-ml-6.3-1653471293.jpg',\n",
       "   'face': 'side',\n",
       "   'sequence': '6.3'},\n",
       "  {'url': 'https://cdn01.pharmeasy.in/dam/products_otc/M97232/the-skin-story-keratin-body-lotion-smart-technology-uv-protection-280-ml-6.4-1653471269.jpg',\n",
       "   'face': 'side',\n",
       "   'sequence': '6.4'},\n",
       "  {'url': 'https://cdn01.pharmeasy.in/dam/products_otc/M97232/the-skin-story-keratin-body-lotion-smart-technology-uv-protection-280-ml-6.5-1653471296.jpg',\n",
       "   'face': 'side',\n",
       "   'sequence': '6.5'},\n",
       "  {'url': 'https://cdn01.pharmeasy.in/dam/products_otc/M97232/the-skin-story-keratin-body-lotion-smart-technology-uv-protection-280-ml-7-1653471344.jpg',\n",
       "   'face': 'back',\n",
       "   'sequence': '7'},\n",
       "  {'url': 'https://cdn01.pharmeasy.in/dam/products_otc/M97232/the-skin-story-keratin-body-lotion-smart-technology-uv-protection-280-ml-7.1-1641792204.jpg',\n",
       "   'face': 'back',\n",
       "   'sequence': '7.1'}],\n",
       " 'labelDetails': None,\n",
       " 'ratingDetails': {'value': 2, 'count': 1},\n",
       " 'listingId': '2686794',\n",
       " 'productTierAttributes': {'type': 5, 'text': 'Guaranteed Delivery'},\n",
       " 'productSubstitutionAttributes': None,\n",
       " 'productAvailabilityFlags': {'isAvailable': True,\n",
       "  'showVariantsInBottomSheet': True,\n",
       "  'notifyMe': False},\n",
       " 'maxQuantity': 20,\n",
       " 'productVolume': 0,\n",
       " 'similarProductsAttributes': None,\n",
       " 'isAvailable': True,\n",
       " 'images': ['https://cdn01.pharmeasy.in/dam/products_otc/M97232/the-skin-story-keratin-body-lotion-smart-technology-uv-protection-280-ml-2-1653471346.jpg?dim=300x0&f=jpg&dpr=3&q=60']}"
      ]
     },
     "execution_count": 5,
     "metadata": {},
     "output_type": "execute_result"
    }
   ],
   "source": [
    "products=js['data']['products'][0]\n",
    "products"
   ]
  },
  {
   "cell_type": "code",
   "execution_count": 6,
   "id": "ef9f149c-4150-42b8-be24-d417fc728cbd",
   "metadata": {},
   "outputs": [
    {
     "data": {
      "text/plain": [
       "3124008"
      ]
     },
     "execution_count": 6,
     "metadata": {},
     "output_type": "execute_result"
    }
   ],
   "source": [
    "productId=js['data']['products'][0]['productId']\n",
    "productId"
   ]
  },
  {
   "cell_type": "code",
   "execution_count": 7,
   "id": "59bbb515-b5f7-4d69-a90e-e30110eae636",
   "metadata": {},
   "outputs": [
    {
     "data": {
      "text/plain": [
       "'The Skin Story Keratin Body Lotion Smart Technology Uv Protection 280 Ml'"
      ]
     },
     "execution_count": 7,
     "metadata": {},
     "output_type": "execute_result"
    }
   ],
   "source": [
    "name=js['data']['products'][0][\"name\"]\n",
    "name"
   ]
  },
  {
   "cell_type": "code",
   "execution_count": 8,
   "id": "40d7fabb-a8aa-42ca-9797-115050c4b24f",
   "metadata": {},
   "outputs": [
    {
     "data": {
      "text/plain": [
       "'THE SKIN STORY'"
      ]
     },
     "execution_count": 8,
     "metadata": {},
     "output_type": "execute_result"
    }
   ],
   "source": [
    "Brand=js['data']['products'][0][\"manufacturer\"]\n",
    "Brand"
   ]
  },
  {
   "cell_type": "code",
   "execution_count": 9,
   "id": "ec03f8bd-c144-4178-b40d-e6f2bf50c19b",
   "metadata": {},
   "outputs": [
    {
     "data": {
      "text/plain": [
       "'349.00'"
      ]
     },
     "execution_count": 9,
     "metadata": {},
     "output_type": "execute_result"
    }
   ],
   "source": [
    "mrpDecimal=js['data']['products'][0][\"mrpDecimal\"]\n",
    "mrpDecimal"
   ]
  },
  {
   "cell_type": "code",
   "execution_count": 10,
   "id": "ad66e059-82ec-4b39-9d8a-e876495d146f",
   "metadata": {},
   "outputs": [
    {
     "data": {
      "text/plain": [
       "'272.22'"
      ]
     },
     "execution_count": 10,
     "metadata": {},
     "output_type": "execute_result"
    }
   ],
   "source": [
    "salePriceDecimal=js['data']['products'][0][\"salePriceDecimal\"]\n",
    "salePriceDecimal"
   ]
  },
  {
   "cell_type": "code",
   "execution_count": 11,
   "id": "62ed19d9-63d7-48db-bb23-f10429139077",
   "metadata": {},
   "outputs": [
    {
     "data": {
      "text/plain": [
       "'76.78'"
      ]
     },
     "execution_count": 11,
     "metadata": {},
     "output_type": "execute_result"
    }
   ],
   "source": [
    "discountDecimal=js['data']['products'][0][\"discountDecimal\"]\n",
    "discountDecimal"
   ]
  },
  {
   "cell_type": "code",
   "execution_count": 12,
   "id": "1ebfb0d0-9541-4536-a61f-95cc9f41961a",
   "metadata": {},
   "outputs": [
    {
     "data": {
      "text/plain": [
       "'22'"
      ]
     },
     "execution_count": 12,
     "metadata": {},
     "output_type": "execute_result"
    }
   ],
   "source": [
    "discountPercent=js['data']['products'][0][\"discountPercent\"]\n",
    "discountPercent"
   ]
  },
  {
   "cell_type": "code",
   "execution_count": 13,
   "id": "e1758211-244b-4b03-9315-034df8a715cb",
   "metadata": {},
   "outputs": [
    {
     "data": {
      "text/plain": [
       "'https://cdn01.pharmeasy.in/dam/products_otc/M97232/the-skin-story-keratin-body-lotion-smart-technology-uv-protection-280-ml-2-1653471346.jpg?dim=300x0&f=jpg&dpr=3&q=60'"
      ]
     },
     "execution_count": 13,
     "metadata": {},
     "output_type": "execute_result"
    }
   ],
   "source": [
    "image=js['data']['products'][0][\"images\"][0] # list akaare na dekhanior jonno 0 index deya \n",
    "image"
   ]
  },
  {
   "cell_type": "code",
   "execution_count": 28,
   "id": "9a7edcfe-ba1d-44a0-9e91-426d52228ce0",
   "metadata": {},
   "outputs": [
    {
     "name": "stdout",
     "output_type": "stream",
     "text": [
      "_________________\n",
      "{'productId': 2988615, 'name=': '23 Yards Invigorating Body Wash For Him - 200ml', 'Brand': '23 YARDS', 'mrpDecimal': '499 TK', 'salePriceDecimal': '474.05', 'discountDecimal': '24.95', 'discountPercent': '5 %'}\n",
      "_________________\n",
      "_________________\n",
      "{'productId': 3571079, 'name=': 'Plum Bodylovin Oopsie Daisy Shower Gel- 240 Ml', 'Brand': 'PLUM', 'mrpDecimal': '380 TK', 'salePriceDecimal': '292.60', 'discountDecimal': '87.40', 'discountPercent': '23 %'}\n",
      "_________________\n",
      "_________________\n",
      "{'productId': 3900234, 'name=': 'Bbb Better Body Bombay Aloe & Coconut Hydrating Body Lotion | For Dry & Sensitive Skin (300ml)', 'Brand': 'BBB BETTER BODY BOMBAY', 'mrpDecimal': '599 TK', 'salePriceDecimal': '599.00', 'discountDecimal': None, 'discountPercent': '0 %'}\n",
      "_________________\n",
      "_________________\n",
      "{'productId': 3693954, 'name=': 'Gemblue Biocare Ubtan Body Yogurt 200ml', 'Brand': 'GEMBLUE BIOCARE', 'mrpDecimal': '450 TK', 'salePriceDecimal': '441.00', 'discountDecimal': '9.00', 'discountPercent': '2 %'}\n",
      "_________________\n",
      "_________________\n",
      "{'productId': 3693938, 'name=': 'Gemblue Biocare Romance Body Lotion 500ml', 'Brand': 'GEMBLUE BIOCARE', 'mrpDecimal': '275 TK', 'salePriceDecimal': '264.00', 'discountDecimal': '11.00', 'discountPercent': '4 %'}\n",
      "_________________\n",
      "_________________\n",
      "{'productId': 3489015, 'name=': 'Soulflower Lemongrass Haldi Soap 150gm', 'Brand': 'SOULFLOWER', 'mrpDecimal': '300 TK', 'salePriceDecimal': '234.00', 'discountDecimal': '66.00', 'discountPercent': '22 %'}\n",
      "_________________\n",
      "_________________\n",
      "{'productId': 3625830, 'name=': 'Khadi Natural Basil Essential Oil 15 Ml', 'Brand': 'KHADI NATURAL', 'mrpDecimal': '399 TK', 'salePriceDecimal': '303.24', 'discountDecimal': '95.76', 'discountPercent': '24 %'}\n",
      "_________________\n",
      "_________________\n",
      "{'productId': 3688809, 'name=': 'Mancode Charcoal Scrub 100gm', 'Brand': 'MANCODE', 'mrpDecimal': '350 TK', 'salePriceDecimal': '248.50', 'discountDecimal': '101.50', 'discountPercent': '29 %'}\n",
      "_________________\n",
      "_________________\n",
      "{'productId': 3622920, 'name=': 'Khadi Natural Green Tea & Mint Body Wash Sls & Paraben Free 210 Ml', 'Brand': 'KHADI NATURAL', 'mrpDecimal': '299 TK', 'salePriceDecimal': '227.24', 'discountDecimal': '71.76', 'discountPercent': '24 %'}\n",
      "_________________\n",
      "_________________\n",
      "{'productId': 214081, 'name=': 'No Scars Soap 150gm', 'Brand': 'NO SCARS', 'mrpDecimal': '166 TK', 'salePriceDecimal': '139.86', 'discountDecimal': '26.64', 'discountPercent': '16 %'}\n",
      "_________________\n",
      "_________________\n",
      "{'productId': 8294, 'name=': 'Venusia Moisturizing Bathing Soap With Shea & Aloe Butter Hydrated & Supple Skin Ph Balanced 75g', 'Brand': 'VENUSIA', 'mrpDecimal': '225 TK', 'salePriceDecimal': '175.89', 'discountDecimal': '49.61', 'discountPercent': '22 %'}\n",
      "_________________\n",
      "_________________\n",
      "{'productId': 3689004, 'name=': 'Sweet Heart Orange Paris Tower Long Lasting Eau De Perfume 70ml', 'Brand': 'SWEET HEART', 'mrpDecimal': '450 TK', 'salePriceDecimal': '427.50', 'discountDecimal': '22.50', 'discountPercent': '5 %'}\n",
      "_________________\n",
      "_________________\n",
      "{'productId': 3582911, 'name=': 'Sirona Marshmallow Body Wash For Gentle Cleansing & Deep Hydration For Men & Women- 200 Ml', 'Brand': 'SIRONA', 'mrpDecimal': '349 TK', 'salePriceDecimal': '164.03', 'discountDecimal': '184.97', 'discountPercent': '53 %'}\n",
      "_________________\n",
      "_________________\n",
      "{'productId': 3693936, 'name=': 'Gemblue Biocare Moisturizing Body Milk Body Lotion 500ml', 'Brand': 'GEMBLUE BIOCARE', 'mrpDecimal': '275 TK', 'salePriceDecimal': '264.00', 'discountDecimal': '11.00', 'discountPercent': '4 %'}\n",
      "_________________\n",
      "_________________\n",
      "{'productId': 170388, 'name=': 'Epi Plus Lotion 100ml', 'Brand': 'EPI PLUS', 'mrpDecimal': '199 TK', 'salePriceDecimal': '145.27', 'discountDecimal': '53.73', 'discountPercent': '27 %'}\n",
      "_________________\n",
      "_________________\n",
      "{'productId': 181804, 'name=': 'Dershine Soap 75gm', 'Brand': 'DERSHINE', 'mrpDecimal': '95 TK', 'salePriceDecimal': '66.50', 'discountDecimal': '28.50', 'discountPercent': '30 %'}\n",
      "_________________\n",
      "_________________\n",
      "{'productId': 3693943, 'name=': 'Gemblue Biocare Soothing Body Milk 500ml', 'Brand': 'GEMBLUE BIOCARE', 'mrpDecimal': '275 TK', 'salePriceDecimal': '264.00', 'discountDecimal': '11.00', 'discountPercent': '4 %'}\n",
      "_________________\n",
      "_________________\n",
      "{'productId': 3688930, 'name=': 'Mancode Hydro Wash 3 In 1 ( Body+face+hair ), 450ml', 'Brand': 'MANCODE', 'mrpDecimal': '499 TK', 'salePriceDecimal': '269.46', 'discountDecimal': '229.54', 'discountPercent': '46 %'}\n",
      "_________________\n",
      "_________________\n",
      "{'productId': 23798, 'name=': 'Parasoft Shower Gel', 'Brand': 'PARASOFT', 'mrpDecimal': '286 TK', 'salePriceDecimal': '200.20', 'discountDecimal': '85.80', 'discountPercent': '30 %'}\n",
      "_________________\n",
      "_________________\n",
      "{'productId': 212754, 'name=': 'Inostretch  Cream  Bottle Of 60 G', 'Brand': 'INOSTRETCH', 'mrpDecimal': '890 TK', 'salePriceDecimal': '890.00', 'discountDecimal': None, 'discountPercent': '0 %'}\n",
      "_________________\n",
      "_________________\n",
      "{'productId': 506478, 'name=': 'Vivel Lavender And Almond Oil Body Wash Bottle Of 200 Ml', 'Brand': 'VIVEL', 'mrpDecimal': '80 TK', 'salePriceDecimal': '60.00', 'discountDecimal': '20.00', 'discountPercent': '25 %'}\n",
      "_________________\n",
      "_________________\n",
      "{'productId': 3877475, 'name=': 'Wow Skin Science Energy 2-in-1 Shampoo + Body Wash - No Parabens, Sulphate, Silicones (250 Ml)', 'Brand': 'WOW SKIN SCIENCE', 'mrpDecimal': '349 TK', 'salePriceDecimal': '310.61', 'discountDecimal': '38.39', 'discountPercent': '11 %'}\n",
      "_________________\n",
      "_________________\n",
      "{'productId': 215156, 'name=': 'Nivea Water Lily Body Wash & Shower Gel 250 Ml', 'Brand': 'NIVEA', 'mrpDecimal': '199 TK', 'salePriceDecimal': '169.15', 'discountDecimal': '29.85', 'discountPercent': '15 %'}\n",
      "_________________\n",
      "_________________\n",
      "{'productId': 3597219, 'name=': 'Khadi Organique Ayurvedic Handmade Herbal Soap Kit - Set Of 6', 'Brand': 'KHADI ORGANIQUE', 'mrpDecimal': '349 TK', 'salePriceDecimal': '254.77', 'discountDecimal': '94.23', 'discountPercent': '27 %'}\n",
      "_________________\n",
      "_________________\n",
      "{'productId': 237360, 'name=': 'Axe Signature Denim Cologne Talcum Powder Bottle Of 100 G', 'Brand': 'AXE', 'mrpDecimal': '78 TK', 'salePriceDecimal': '78.00', 'discountDecimal': None, 'discountPercent': '0 %'}\n",
      "_________________\n",
      "_________________\n",
      "{'productId': 529777, 'name=': 'Mothercare All We Know Baby Bath Milk - 300ml', 'Brand': 'MOTHERCARE', 'mrpDecimal': '379 TK', 'salePriceDecimal': '322.15', 'discountDecimal': '56.85', 'discountPercent': '15 %'}\n",
      "_________________\n",
      "_________________\n",
      "{'productId': 502684, 'name=': 'Dettol & Moms Bathing Soap Tulsi - 125gm ( Buy 3 Get 1 )', 'Brand': 'DETTOL', 'mrpDecimal': '195 TK', 'salePriceDecimal': '185.25', 'discountDecimal': '9.75', 'discountPercent': '5 %'}\n",
      "_________________\n",
      "_________________\n",
      "{'productId': 3010710, 'name=': 'Nivea Fresh Pure Body Wash & Shower Gel 125 Ml', 'Brand': 'NIVEA', 'mrpDecimal': '125 TK', 'salePriceDecimal': '102.50', 'discountDecimal': '22.50', 'discountPercent': '18 %'}\n",
      "_________________\n",
      "_________________\n",
      "{'productId': 232234, 'name=': 'Boro Plus Cocoa Soft Body Lotion Bottle Of 400 Ml', 'Brand': 'BORO PLUS', 'mrpDecimal': '345 TK', 'salePriceDecimal': '345.00', 'discountDecimal': None, 'discountPercent': '0 %'}\n",
      "_________________\n",
      "_________________\n",
      "{'productId': 208099, 'name=': 'Neko Daily Hygiene Soap 24 Hours Germ Protection - 100g ( Pack Of 1 )', 'Brand': 'NEKO', 'mrpDecimal': '70 TK', 'salePriceDecimal': '49.70', 'discountDecimal': '20.30', 'discountPercent': '29 %'}\n",
      "_________________\n",
      "_________________\n",
      "{'productId': 237364, 'name=': 'Axe Signature Pulse Cologne Talc 100 G', 'Brand': 'AXE', 'mrpDecimal': '78 TK', 'salePriceDecimal': '78.00', 'discountDecimal': None, 'discountPercent': '0 %'}\n",
      "_________________\n",
      "_________________\n",
      "{'productId': 13052, 'name=': 'New Zingisol Lotion 15ml', 'Brand': 'ZINGISOL', 'mrpDecimal': '49 TK', 'salePriceDecimal': '39.28', 'discountDecimal': '9.82', 'discountPercent': '20 %'}\n",
      "_________________\n",
      "_________________\n",
      "{'productId': 3688853, 'name=': 'Royal Mirage Emerald Long Lasting Imported Eau De Cologne Spary 120ml', 'Brand': 'ROYAL MIRAGE', 'mrpDecimal': '1100 TK', 'salePriceDecimal': '1001.00', 'discountDecimal': '99.00', 'discountPercent': '9 %'}\n",
      "_________________\n",
      "_________________\n",
      "{'productId': 3048024, 'name=': 'Boro Plus Doodh Kesar Body Lotion 300 Ml', 'Brand': 'BORO PLUS', 'mrpDecimal': '290 TK', 'salePriceDecimal': '203.00', 'discountDecimal': '87.00', 'discountPercent': '30 %'}\n",
      "_________________\n",
      "_________________\n",
      "{'productId': 3689015, 'name=': 'Sweet Heart 919 Paris Red Eau De Perfume 50ml', 'Brand': 'SWEET HEART', 'mrpDecimal': '450 TK', 'salePriceDecimal': '427.50', 'discountDecimal': '22.50', 'discountPercent': '5 %'}\n",
      "_________________\n",
      "_________________\n",
      "{'productId': 86731, 'name=': 'White Tone Face Powder 70gm', 'Brand': 'WHITETONE', 'mrpDecimal': '115 TK', 'salePriceDecimal': '106.95', 'discountDecimal': '8.05', 'discountPercent': '7 %'}\n",
      "_________________\n",
      "_________________\n",
      "{'productId': 3877466, 'name=': 'Wow Skin Science Apple Cider Vinegar Foaming Body Wash - No Parabens, Sulphate, Silicones - 250ml', 'Brand': 'WOW SKIN SCIENCE', 'mrpDecimal': '339 TK', 'salePriceDecimal': '247.47', 'discountDecimal': '91.53', 'discountPercent': '27 %'}\n",
      "_________________\n",
      "_________________\n",
      "{'productId': 3499986, 'name=': 'Nivea Soft Light Moisturising Cream - 500ml', 'Brand': 'NIVEA', 'mrpDecimal': '599 TK', 'salePriceDecimal': '509.15', 'discountDecimal': '89.85', 'discountPercent': '15 %'}\n",
      "_________________\n",
      "_________________\n",
      "{'productId': 2988427, 'name=': 'Dove Pink Rosa Beauty Bathing Soap - 100 G', 'Brand': 'DOVE', 'mrpDecimal': '70 TK', 'salePriceDecimal': '70.00', 'discountDecimal': None, 'discountPercent': '0 %'}\n",
      "_________________\n",
      "_________________\n",
      "{'productId': 529861, 'name=': 'Vaseline Intensive Care Cocoa Glow Body Lotion -100 Ml', 'Brand': 'VASELINE', 'mrpDecimal': '105 TK', 'salePriceDecimal': '105.00', 'discountDecimal': None, 'discountPercent': '0 %'}\n",
      "_________________\n",
      "_________________\n",
      "{'productId': 10171, 'name=': 'Ethiglo Soap 75gm', 'Brand': 'ETHIGLO', 'mrpDecimal': '99 TK', 'salePriceDecimal': '74.25', 'discountDecimal': '24.75', 'discountPercent': '25 %'}\n",
      "_________________\n",
      "_________________\n",
      "{'productId': 215161, 'name=': 'Nivea Smooth Milk With Shea Butter Body Lotion Bottle Of 400 Ml', 'Brand': 'NIVEA', 'mrpDecimal': '425 TK', 'salePriceDecimal': '369.75', 'discountDecimal': '55.25', 'discountPercent': '13 %'}\n",
      "_________________\n",
      "_________________\n",
      "{'productId': 214447, 'name=': 'Dettol Skincare Moisturizing Bathing Soap Bar With Glycerine (pack Of 4 - 75g Each)', 'Brand': 'DETTOL', 'mrpDecimal': '110 TK', 'salePriceDecimal': '86.90', 'discountDecimal': '23.10', 'discountPercent': '21 %'}\n",
      "_________________\n",
      "_________________\n",
      "{'productId': 223744, 'name=': 'New Mederma Advanced Plus Tube Of 10gm Scar Gel', 'Brand': 'MEDERMA', 'mrpDecimal': '485 TK', 'salePriceDecimal': '412.25', 'discountDecimal': '72.75', 'discountPercent': '15 %'}\n",
      "_________________\n",
      "_________________\n",
      "{'productId': 237506, 'name=': 'Shower To Shower Super Cool Talcum Powder Bottle Of 150 G', 'Brand': 'SHOWER TO SHOWER', 'mrpDecimal': '115 TK', 'salePriceDecimal': '109.25', 'discountDecimal': '5.75', 'discountPercent': '5 %'}\n",
      "_________________\n",
      "_________________\n",
      "{'productId': 3563050, 'name=': 'Everyuth Naturals Body Lotion Soothing Citrus Aloe 200ml', 'Brand': 'EVERYUTH', 'mrpDecimal': '250 TK', 'salePriceDecimal': '170.00', 'discountDecimal': '80.00', 'discountPercent': '32 %'}\n",
      "_________________\n"
     ]
    }
   ],
   "source": [
    "data=[]\n",
    "for p in range (1,47):\n",
    "    url=f'https://pharmeasy.in/api/otc/getCategoryProducts?categoryId=902&page={p}'\n",
    "    req=requests.get(url)\n",
    "    js=req.json()\n",
    "    for i in range(19):\n",
    "        \n",
    "        d= {\n",
    "        'productId':js['data']['products'][i]['productId'],\n",
    "        'name=':js['data']['products'][i][\"name\"] ,\n",
    "        'Brand':js['data']['products'][i][\"manufacturer\"],\n",
    "        'mrpDecimal':js['data']['products'][i][\"mrpDecimal\"].split(\".\")[0]+(\" TK\"),\n",
    "        'salePriceDecimal':js['data']['products'][i][\"salePriceDecimal\"],\n",
    "        'discountDecimal':js['data']['products'][i][\"discountDecimal\"] ,\n",
    "        'discountPercent':js['data']['products'][i][\"discountPercent\"]+ (\" %\")\n",
    "    \n",
    "    }\n",
    "    print(\"_________________\")\n",
    "    print(d)\n",
    "    print(\"_________________\")\n",
    "    data.append(d)"
   ]
  },
  {
   "cell_type": "code",
   "execution_count": 32,
   "id": "80632726-cd68-4d34-8ef3-3b885c9dfbac",
   "metadata": {},
   "outputs": [
    {
     "data": {
      "text/html": [
       "<div>\n",
       "<style scoped>\n",
       "    .dataframe tbody tr th:only-of-type {\n",
       "        vertical-align: middle;\n",
       "    }\n",
       "\n",
       "    .dataframe tbody tr th {\n",
       "        vertical-align: top;\n",
       "    }\n",
       "\n",
       "    .dataframe thead th {\n",
       "        text-align: right;\n",
       "    }\n",
       "</style>\n",
       "<table border=\"1\" class=\"dataframe\">\n",
       "  <thead>\n",
       "    <tr style=\"text-align: right;\">\n",
       "      <th></th>\n",
       "      <th>productId</th>\n",
       "      <th>name=</th>\n",
       "      <th>Brand</th>\n",
       "      <th>mrpDecimal</th>\n",
       "      <th>salePriceDecimal</th>\n",
       "      <th>discountDecimal</th>\n",
       "      <th>discountPercent</th>\n",
       "    </tr>\n",
       "  </thead>\n",
       "  <tbody>\n",
       "    <tr>\n",
       "      <th>0</th>\n",
       "      <td>2988615</td>\n",
       "      <td>23 Yards Invigorating Body Wash For Him - 200ml</td>\n",
       "      <td>23 YARDS</td>\n",
       "      <td>499 TK</td>\n",
       "      <td>474.05</td>\n",
       "      <td>24.95</td>\n",
       "      <td>5 %</td>\n",
       "    </tr>\n",
       "    <tr>\n",
       "      <th>1</th>\n",
       "      <td>3571079</td>\n",
       "      <td>Plum Bodylovin Oopsie Daisy Shower Gel- 240 Ml</td>\n",
       "      <td>PLUM</td>\n",
       "      <td>380 TK</td>\n",
       "      <td>292.60</td>\n",
       "      <td>87.40</td>\n",
       "      <td>23 %</td>\n",
       "    </tr>\n",
       "    <tr>\n",
       "      <th>2</th>\n",
       "      <td>3900234</td>\n",
       "      <td>Bbb Better Body Bombay Aloe &amp; Coconut Hydratin...</td>\n",
       "      <td>BBB BETTER BODY BOMBAY</td>\n",
       "      <td>599 TK</td>\n",
       "      <td>599.00</td>\n",
       "      <td>None</td>\n",
       "      <td>0 %</td>\n",
       "    </tr>\n",
       "    <tr>\n",
       "      <th>3</th>\n",
       "      <td>3693954</td>\n",
       "      <td>Gemblue Biocare Ubtan Body Yogurt 200ml</td>\n",
       "      <td>GEMBLUE BIOCARE</td>\n",
       "      <td>450 TK</td>\n",
       "      <td>441.00</td>\n",
       "      <td>9.00</td>\n",
       "      <td>2 %</td>\n",
       "    </tr>\n",
       "    <tr>\n",
       "      <th>4</th>\n",
       "      <td>3693938</td>\n",
       "      <td>Gemblue Biocare Romance Body Lotion 500ml</td>\n",
       "      <td>GEMBLUE BIOCARE</td>\n",
       "      <td>275 TK</td>\n",
       "      <td>264.00</td>\n",
       "      <td>11.00</td>\n",
       "      <td>4 %</td>\n",
       "    </tr>\n",
       "  </tbody>\n",
       "</table>\n",
       "</div>"
      ],
      "text/plain": [
       "   productId                                              name=  \\\n",
       "0    2988615    23 Yards Invigorating Body Wash For Him - 200ml   \n",
       "1    3571079     Plum Bodylovin Oopsie Daisy Shower Gel- 240 Ml   \n",
       "2    3900234  Bbb Better Body Bombay Aloe & Coconut Hydratin...   \n",
       "3    3693954            Gemblue Biocare Ubtan Body Yogurt 200ml   \n",
       "4    3693938          Gemblue Biocare Romance Body Lotion 500ml   \n",
       "\n",
       "                    Brand mrpDecimal salePriceDecimal discountDecimal  \\\n",
       "0                23 YARDS     499 TK           474.05           24.95   \n",
       "1                    PLUM     380 TK           292.60           87.40   \n",
       "2  BBB BETTER BODY BOMBAY     599 TK           599.00            None   \n",
       "3         GEMBLUE BIOCARE     450 TK           441.00            9.00   \n",
       "4         GEMBLUE BIOCARE     275 TK           264.00           11.00   \n",
       "\n",
       "  discountPercent  \n",
       "0             5 %  \n",
       "1            23 %  \n",
       "2             0 %  \n",
       "3             2 %  \n",
       "4             4 %  "
      ]
     },
     "execution_count": 32,
     "metadata": {},
     "output_type": "execute_result"
    }
   ],
   "source": [
    "import pandas as pd\n",
    "df=pd.DataFrame(data)\n",
    "df.head()"
   ]
  },
  {
   "cell_type": "markdown",
   "id": "5920dac8-29f3-47ac-9542-7b8e7ea299a8",
   "metadata": {},
   "source": [
    "import DATA"
   ]
  },
  {
   "cell_type": "code",
   "execution_count": 35,
   "id": "a8fcf93b-1849-4a35-938f-6ca83470cfbc",
   "metadata": {},
   "outputs": [],
   "source": [
    "df.to_csv(\"soap_phareasy.csv\",index=False)"
   ]
  },
  {
   "cell_type": "code",
   "execution_count": null,
   "id": "337f558b-1ed6-4aa4-afe3-955931f9337e",
   "metadata": {},
   "outputs": [],
   "source": []
  }
 ],
 "metadata": {
  "kernelspec": {
   "display_name": "Python 3 (ipykernel)",
   "language": "python",
   "name": "python3"
  },
  "language_info": {
   "codemirror_mode": {
    "name": "ipython",
    "version": 3
   },
   "file_extension": ".py",
   "mimetype": "text/x-python",
   "name": "python",
   "nbconvert_exporter": "python",
   "pygments_lexer": "ipython3",
   "version": "3.9.12"
  }
 },
 "nbformat": 4,
 "nbformat_minor": 5
}
