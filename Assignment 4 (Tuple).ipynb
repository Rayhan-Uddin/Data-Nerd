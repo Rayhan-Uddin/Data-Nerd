{
 "cells": [
  {
   "cell_type": "markdown",
   "id": "b5e609fe",
   "metadata": {},
   "source": [
    "# Tuple( unchangeable)"
   ]
  },
  {
   "cell_type": "code",
   "execution_count": 1,
   "id": "548f23c7",
   "metadata": {},
   "outputs": [],
   "source": [
    "my_tuple=(\"Rayhan\",\"Ijaj\",\"Data\")"
   ]
  },
  {
   "cell_type": "code",
   "execution_count": 2,
   "id": "e2089bfe",
   "metadata": {},
   "outputs": [
    {
     "name": "stdout",
     "output_type": "stream",
     "text": [
      "('Rayhan', 'Ijaj', 'Data')\n"
     ]
    }
   ],
   "source": [
    "print(my_tuple)"
   ]
  },
  {
   "cell_type": "markdown",
   "id": "c46ecd41",
   "metadata": {},
   "source": [
    "# Ordered, Unchangeable ,Allow Duplicates\n",
    "\n"
   ]
  },
  {
   "cell_type": "markdown",
   "id": "f70550b1",
   "metadata": {},
   "source": [
    "# duplicate"
   ]
  },
  {
   "cell_type": "code",
   "execution_count": 3,
   "id": "bcaccc3a",
   "metadata": {},
   "outputs": [],
   "source": [
    "tup_1=(\"Apple\",\"Banana\",\"Mango\",\"Black Berry\",\"Apple\")"
   ]
  },
  {
   "cell_type": "code",
   "execution_count": 4,
   "id": "8e889880",
   "metadata": {},
   "outputs": [
    {
     "data": {
      "text/plain": [
       "('Apple', 'Banana', 'Mango', 'Black Berry', 'Apple')"
      ]
     },
     "execution_count": 4,
     "metadata": {},
     "output_type": "execute_result"
    }
   ],
   "source": [
    "tup_1 #allow duplicate values Apple"
   ]
  },
  {
   "cell_type": "code",
   "execution_count": 5,
   "id": "311b01a2",
   "metadata": {},
   "outputs": [
    {
     "name": "stdout",
     "output_type": "stream",
     "text": [
      "5\n"
     ]
    }
   ],
   "source": [
    "print(len(tup_1))"
   ]
  },
  {
   "cell_type": "code",
   "execution_count": 6,
   "id": "01f87dec",
   "metadata": {},
   "outputs": [],
   "source": [
    "tup_one_item=(\"Rayhan,\") # Remember the comma for a tupple"
   ]
  },
  {
   "cell_type": "code",
   "execution_count": 7,
   "id": "a843b86f",
   "metadata": {},
   "outputs": [
    {
     "data": {
      "text/plain": [
       "'Rayhan,'"
      ]
     },
     "execution_count": 7,
     "metadata": {},
     "output_type": "execute_result"
    }
   ],
   "source": [
    "tup_one_item"
   ]
  },
  {
   "cell_type": "code",
   "execution_count": 8,
   "id": "a820d690",
   "metadata": {},
   "outputs": [],
   "source": [
    "tup_str=(\"Apple\",\"Banana\",\"Mango\",\"Black Berry\")\n",
    "tup_int=(\"1\",\"2\",\"3\",\"34\",\"21\",\"23\")\n",
    "tup_boolean=(True,False,True)"
   ]
  },
  {
   "cell_type": "code",
   "execution_count": 9,
   "id": "7d4f502d",
   "metadata": {},
   "outputs": [
    {
     "name": "stdout",
     "output_type": "stream",
     "text": [
      "('Apple', 'Banana', 'Mango', 'Black Berry')\n"
     ]
    }
   ],
   "source": [
    "print(tup_str)"
   ]
  },
  {
   "cell_type": "code",
   "execution_count": 10,
   "id": "97b02e80",
   "metadata": {},
   "outputs": [
    {
     "name": "stdout",
     "output_type": "stream",
     "text": [
      "('1', '2', '3', '34', '21', '23')\n",
      "(True, False, True)\n"
     ]
    }
   ],
   "source": [
    "print(tup_int)\n",
    "print(tup_boolean)"
   ]
  },
  {
   "cell_type": "code",
   "execution_count": 11,
   "id": "2dfe2012",
   "metadata": {},
   "outputs": [
    {
     "data": {
      "text/plain": [
       "('Banana', 'Mango', '2', '34', '4', True)"
      ]
     },
     "execution_count": 11,
     "metadata": {},
     "output_type": "execute_result"
    }
   ],
   "source": [
    "tup_mix=(\"Banana\",\"Mango\",\"2\",\"34\",\"4\",True) # Can contains different type of data\n",
    "tup_mix"
   ]
  },
  {
   "cell_type": "code",
   "execution_count": 12,
   "id": "be9fb907",
   "metadata": {},
   "outputs": [
    {
     "data": {
      "text/plain": [
       "tuple"
      ]
     },
     "execution_count": 12,
     "metadata": {},
     "output_type": "execute_result"
    }
   ],
   "source": [
    "type(tup_mix) # Data Type"
   ]
  },
  {
   "cell_type": "markdown",
   "id": "e86c10be",
   "metadata": {},
   "source": [
    "# The tuple() Constructor"
   ]
  },
  {
   "cell_type": "code",
   "execution_count": 13,
   "id": "82310d9b",
   "metadata": {},
   "outputs": [
    {
     "name": "stdout",
     "output_type": "stream",
     "text": [
      "('Apple', 'Banana', 'Mango')\n"
     ]
    }
   ],
   "source": [
    "tup_doublebracket = tuple((\"Apple\",\"Banana\",\"Mango\")) # note the double round-brackets\n",
    "print(tup_doublebracket)"
   ]
  },
  {
   "cell_type": "markdown",
   "id": "439f73e4",
   "metadata": {},
   "source": [
    "# Access Tuple"
   ]
  },
  {
   "cell_type": "code",
   "execution_count": 14,
   "id": "70bdc3b4",
   "metadata": {},
   "outputs": [
    {
     "data": {
      "text/plain": [
       "('Apple', 'Banana', 'Mango', 'Black Berry')"
      ]
     },
     "execution_count": 14,
     "metadata": {},
     "output_type": "execute_result"
    }
   ],
   "source": [
    "tup_str"
   ]
  },
  {
   "cell_type": "code",
   "execution_count": 15,
   "id": "d901e4ba",
   "metadata": {},
   "outputs": [
    {
     "name": "stdout",
     "output_type": "stream",
     "text": [
      "Mango\n"
     ]
    }
   ],
   "source": [
    "print(tup_str[2])"
   ]
  },
  {
   "cell_type": "code",
   "execution_count": 16,
   "id": "36872819",
   "metadata": {},
   "outputs": [
    {
     "name": "stdout",
     "output_type": "stream",
     "text": [
      "Mango\n"
     ]
    }
   ],
   "source": [
    "print(tup_str[-2])"
   ]
  },
  {
   "cell_type": "markdown",
   "id": "d658e972",
   "metadata": {},
   "source": [
    "# Range of Indexes"
   ]
  },
  {
   "cell_type": "code",
   "execution_count": 17,
   "id": "a2fc4e0d",
   "metadata": {},
   "outputs": [
    {
     "name": "stdout",
     "output_type": "stream",
     "text": [
      "('Banana', 'Mango')\n"
     ]
    }
   ],
   "source": [
    "print(tup_str[1:3])"
   ]
  },
  {
   "cell_type": "code",
   "execution_count": 18,
   "id": "4dca68d9",
   "metadata": {},
   "outputs": [
    {
     "name": "stdout",
     "output_type": "stream",
     "text": [
      "('Apple', 'Banana', 'Mango')\n"
     ]
    }
   ],
   "source": [
    "print(tup_str[:3])#print before 3 "
   ]
  },
  {
   "cell_type": "code",
   "execution_count": 19,
   "id": "1775c200",
   "metadata": {},
   "outputs": [
    {
     "name": "stdout",
     "output_type": "stream",
     "text": [
      "('Mango', 'Black Berry')\n"
     ]
    }
   ],
   "source": [
    "print(tup_str[2:])#Print after 2 no. index"
   ]
  },
  {
   "cell_type": "code",
   "execution_count": 20,
   "id": "fa32a7eb",
   "metadata": {},
   "outputs": [
    {
     "name": "stdout",
     "output_type": "stream",
     "text": [
      "('Banana', 'Mango')\n"
     ]
    }
   ],
   "source": [
    "print(tup_str[-3:-1])"
   ]
  },
  {
   "cell_type": "markdown",
   "id": "04a987e2",
   "metadata": {},
   "source": [
    "# Change Tuple Values"
   ]
  },
  {
   "cell_type": "code",
   "execution_count": 21,
   "id": "df869e18",
   "metadata": {},
   "outputs": [
    {
     "name": "stdout",
     "output_type": "stream",
     "text": [
      "('Apple', 'Banana', 'Mango', 'Black Berry')\n"
     ]
    }
   ],
   "source": [
    "print(tup_str)"
   ]
  },
  {
   "cell_type": "code",
   "execution_count": 22,
   "id": "180a5ced",
   "metadata": {},
   "outputs": [
    {
     "name": "stdout",
     "output_type": "stream",
     "text": [
      "['Apple', 'Banana', 'Mango', 'Black Berry']\n"
     ]
    }
   ],
   "source": [
    "y=list(tup_str) #Convert tuple into list\n",
    "print(y)"
   ]
  },
  {
   "cell_type": "code",
   "execution_count": 23,
   "id": "dfbd8742",
   "metadata": {},
   "outputs": [],
   "source": [
    "y[1]=\"Rayhan\" #added an item with list"
   ]
  },
  {
   "cell_type": "code",
   "execution_count": 24,
   "id": "546aac1f",
   "metadata": {},
   "outputs": [
    {
     "name": "stdout",
     "output_type": "stream",
     "text": [
      "['Apple', 'Rayhan', 'Mango', 'Black Berry']\n"
     ]
    }
   ],
   "source": [
    "print(y)"
   ]
  },
  {
   "cell_type": "code",
   "execution_count": 25,
   "id": "4174698f",
   "metadata": {},
   "outputs": [
    {
     "data": {
      "text/plain": [
       "list"
      ]
     },
     "execution_count": 25,
     "metadata": {},
     "output_type": "execute_result"
    }
   ],
   "source": [
    "type(y)"
   ]
  },
  {
   "cell_type": "code",
   "execution_count": 26,
   "id": "559ff12f",
   "metadata": {},
   "outputs": [
    {
     "name": "stdout",
     "output_type": "stream",
     "text": [
      "('Apple', 'Rayhan', 'Mango', 'Black Berry')\n"
     ]
    }
   ],
   "source": [
    "x=tuple(y)\n",
    "print(x)"
   ]
  },
  {
   "cell_type": "code",
   "execution_count": 27,
   "id": "4ff0fdbd",
   "metadata": {},
   "outputs": [
    {
     "data": {
      "text/plain": [
       "tuple"
      ]
     },
     "execution_count": 27,
     "metadata": {},
     "output_type": "execute_result"
    }
   ],
   "source": [
    "type(x)"
   ]
  },
  {
   "cell_type": "markdown",
   "id": "e6020845",
   "metadata": {},
   "source": [
    "# Remove Items"
   ]
  },
  {
   "cell_type": "code",
   "execution_count": 28,
   "id": "57e4d04a",
   "metadata": {},
   "outputs": [],
   "source": [
    "##romoving tuple item is the same way as change tuple value "
   ]
  },
  {
   "cell_type": "code",
   "execution_count": 29,
   "id": "c8579e0e",
   "metadata": {},
   "outputs": [
    {
     "name": "stdout",
     "output_type": "stream",
     "text": [
      "('Apple', 'Banana', 'Mango', 'Black Berry')\n"
     ]
    }
   ],
   "source": [
    "print(tup_str)"
   ]
  },
  {
   "cell_type": "code",
   "execution_count": 30,
   "id": "6283e335",
   "metadata": {},
   "outputs": [
    {
     "name": "stdout",
     "output_type": "stream",
     "text": [
      "['Apple', 'Rayhan', 'Mango', 'Black Berry']\n"
     ]
    }
   ],
   "source": [
    "print(y) # #list"
   ]
  },
  {
   "cell_type": "code",
   "execution_count": 31,
   "id": "e09b1daf",
   "metadata": {},
   "outputs": [],
   "source": [
    "y.remove(\"Apple\")"
   ]
  },
  {
   "cell_type": "code",
   "execution_count": 32,
   "id": "36a43021",
   "metadata": {},
   "outputs": [
    {
     "name": "stdout",
     "output_type": "stream",
     "text": [
      "['Rayhan', 'Mango', 'Black Berry']\n"
     ]
    }
   ],
   "source": [
    "print(y)"
   ]
  },
  {
   "cell_type": "markdown",
   "id": "a79f5b32",
   "metadata": {},
   "source": [
    "# Unpacking a Tuple"
   ]
  },
  {
   "cell_type": "code",
   "execution_count": 48,
   "id": "e88243e4",
   "metadata": {},
   "outputs": [
    {
     "name": "stdout",
     "output_type": "stream",
     "text": [
      "apple\n",
      "banana\n",
      "cherry\n"
     ]
    }
   ],
   "source": [
    "fruits= (\"apple\", \"banana\", \"cherry\")\n",
    "(green,Yellow,red)=fruits\n",
    "print(green)\n",
    "print(Yellow)\n",
    "print(red)"
   ]
  },
  {
   "cell_type": "code",
   "execution_count": 49,
   "id": "2cf05982",
   "metadata": {},
   "outputs": [
    {
     "name": "stdout",
     "output_type": "stream",
     "text": [
      "apple\n",
      "banana\n",
      "['cherry', 'mango', 'jackfruit']\n"
     ]
    }
   ],
   "source": [
    "fruits= (\"apple\", \"banana\", \"cherry\",\"mango\",\"jackfruit\")\n",
    "(green,Yellow,*red)=fruits # assing a Asterisk \n",
    "print(green)\n",
    "print(Yellow)\n",
    "print(red)"
   ]
  },
  {
   "cell_type": "markdown",
   "id": "250767cf",
   "metadata": {},
   "source": [
    "# Loop Through a Tuple"
   ]
  },
  {
   "cell_type": "code",
   "execution_count": 51,
   "id": "b971a358",
   "metadata": {},
   "outputs": [
    {
     "name": "stdout",
     "output_type": "stream",
     "text": [
      "('apple', 'banana', 'cherry', 'mango', 'jackfruit')\n"
     ]
    }
   ],
   "source": [
    "print(fruits)"
   ]
  },
  {
   "cell_type": "code",
   "execution_count": 52,
   "id": "0b266276",
   "metadata": {},
   "outputs": [
    {
     "name": "stdout",
     "output_type": "stream",
     "text": [
      "apple\n",
      "banana\n",
      "cherry\n",
      "mango\n",
      "jackfruit\n"
     ]
    }
   ],
   "source": [
    "for x in fruits:\n",
    "    print(x)"
   ]
  },
  {
   "cell_type": "code",
   "execution_count": 57,
   "id": "bd346723",
   "metadata": {},
   "outputs": [
    {
     "name": "stdout",
     "output_type": "stream",
     "text": [
      "apple\n",
      "banana\n",
      "cherry\n",
      "mango\n",
      "jackfruit\n"
     ]
    }
   ],
   "source": [
    "for i in range (len(fruits)):\n",
    "    print(fruits[i])"
   ]
  },
  {
   "cell_type": "code",
   "execution_count": 59,
   "id": "7c5f95c4",
   "metadata": {},
   "outputs": [
    {
     "name": "stdout",
     "output_type": "stream",
     "text": [
      "apple\n",
      "banana\n",
      "cherry\n",
      "mango\n",
      "jackfruit\n"
     ]
    }
   ],
   "source": [
    "i=0\n",
    "while i<len(fruits):\n",
    "    print(fruits[i])\n",
    "    i=i+1"
   ]
  },
  {
   "cell_type": "markdown",
   "id": "3c2fdb30",
   "metadata": {},
   "source": [
    "# Join Two Tuples"
   ]
  },
  {
   "cell_type": "code",
   "execution_count": 60,
   "id": "0a5c0954",
   "metadata": {},
   "outputs": [
    {
     "data": {
      "text/plain": [
       "('Apple', 'Banana', 'Mango', 'Black Berry', 'Apple')"
      ]
     },
     "execution_count": 60,
     "metadata": {},
     "output_type": "execute_result"
    }
   ],
   "source": [
    "tup_1"
   ]
  },
  {
   "cell_type": "code",
   "execution_count": 62,
   "id": "354ee294",
   "metadata": {},
   "outputs": [],
   "source": [
    "tup_2=(\"1\",\"2\",\"3\")"
   ]
  },
  {
   "cell_type": "code",
   "execution_count": 64,
   "id": "d3fd064c",
   "metadata": {},
   "outputs": [
    {
     "name": "stdout",
     "output_type": "stream",
     "text": [
      "('Apple', 'Banana', 'Mango', 'Black Berry', 'Apple', '1', '2', '3')\n"
     ]
    }
   ],
   "source": [
    "tup_join=tup_1+tup_2\n",
    "print(tup_join)"
   ]
  },
  {
   "cell_type": "markdown",
   "id": "a23f1349",
   "metadata": {},
   "source": [
    "# Exercise: "
   ]
  },
  {
   "cell_type": "code",
   "execution_count": 65,
   "id": "234ed45d",
   "metadata": {},
   "outputs": [
    {
     "name": "stdout",
     "output_type": "stream",
     "text": [
      "apple\n"
     ]
    }
   ],
   "source": [
    "fruits = (\"apple\", \"banana\", \"cherry\")#Print the first item in the fruits tuple.\n",
    "print(fruits[0])"
   ]
  },
  {
   "cell_type": "code",
   "execution_count": null,
   "id": "712d8c0c",
   "metadata": {},
   "outputs": [],
   "source": []
  }
 ],
 "metadata": {
  "kernelspec": {
   "display_name": "Python 3 (ipykernel)",
   "language": "python",
   "name": "python3"
  },
  "language_info": {
   "codemirror_mode": {
    "name": "ipython",
    "version": 3
   },
   "file_extension": ".py",
   "mimetype": "text/x-python",
   "name": "python",
   "nbconvert_exporter": "python",
   "pygments_lexer": "ipython3",
   "version": "3.9.12"
  }
 },
 "nbformat": 4,
 "nbformat_minor": 5
}
