{
 "cells": [
  {
   "cell_type": "code",
   "execution_count": null,
   "id": "bf7bd6df-7c0d-40f9-ad5b-47713061dc20",
   "metadata": {},
   "outputs": [],
   "source": [
    "#request\n",
    "#json\n",
    "import json\n",
    "import requests"
   ]
  },
  {
   "cell_type": "code",
   "execution_count": null,
   "id": "f37c3260-a81e-4798-b953-80e58a241169",
   "metadata": {},
   "outputs": [],
   "source": [
    "url=\"https://pharmeasy.in/api/otc/getCategoryProducts?categoryId=860&page=2\""
   ]
  },
  {
   "cell_type": "code",
   "execution_count": null,
   "id": "e473fe3c-759a-4b25-913e-1ec54706bb73",
   "metadata": {},
   "outputs": [],
   "source": [
    "req=requests.get(url)\n",
    "req"
   ]
  },
  {
   "cell_type": "code",
   "execution_count": null,
   "id": "640b0df7-169b-4184-8175-84f4835a9238",
   "metadata": {},
   "outputs": [],
   "source": [
    "js=req.json()\n",
    "js"
   ]
  },
  {
   "cell_type": "code",
   "execution_count": 11,
   "id": "329588fb-1a7b-408d-8e73-be80d1e9ae2f",
   "metadata": {},
   "outputs": [
    {
     "data": {
      "text/plain": [
       "dict_keys(['status', 'data'])"
      ]
     },
     "execution_count": 11,
     "metadata": {},
     "output_type": "execute_result"
    }
   ],
   "source": [
    "js.keys()"
   ]
  },
  {
   "cell_type": "code",
   "execution_count": 15,
   "id": "b5ad3453-53c5-46a7-9293-9f028b36c513",
   "metadata": {},
   "outputs": [
    {
     "data": {
      "text/plain": [
       "dict_keys(['products', 'meta', 'queryParams'])"
      ]
     },
     "execution_count": 15,
     "metadata": {},
     "output_type": "execute_result"
    }
   ],
   "source": [
    "js[\"data\"].keys()"
   ]
  },
  {
   "cell_type": "code",
   "execution_count": null,
   "id": "21f960be-17b8-4b1b-9456-5f7dbaf18ee2",
   "metadata": {},
   "outputs": [],
   "source": [
    "js[\"data\"][\"products\"][0]"
   ]
  },
  {
   "cell_type": "code",
   "execution_count": 26,
   "id": "df9162d1-3bea-44ad-9a6f-c9b69c530cc5",
   "metadata": {},
   "outputs": [
    {
     "data": {
      "text/plain": [
       "'Everherb (by Pharmeasy) Moringa (drum Stick) - Immunity Booster Capsules - Natural Multivitamin - Bottle Of 60'"
      ]
     },
     "execution_count": 26,
     "metadata": {},
     "output_type": "execute_result"
    }
   ],
   "source": [
    "name=js[\"data\"][\"products\"][0][\"name\"]\n",
    "name"
   ]
  },
  {
   "cell_type": "code",
   "execution_count": 29,
   "id": "b43df55b-7cde-41de-95a3-d07f473c7a3d",
   "metadata": {},
   "outputs": [
    {
     "data": {
      "text/plain": [
       "'EVERHERB'"
      ]
     },
     "execution_count": 29,
     "metadata": {},
     "output_type": "execute_result"
    }
   ],
   "source": [
    "Brand=js[\"data\"][\"products\"][0][\"manufacturer\"]\n",
    "Brand"
   ]
  },
  {
   "cell_type": "code",
   "execution_count": 30,
   "id": "09532125-261e-42c8-9ed4-d6a8e9b9128b",
   "metadata": {},
   "outputs": [
    {
     "data": {
      "text/plain": [
       "'599.00'"
      ]
     },
     "execution_count": 30,
     "metadata": {},
     "output_type": "execute_result"
    }
   ],
   "source": [
    "MrpDecimal=js[\"data\"][\"products\"][0][\"mrpDecimal\"]\n",
    "MrpDecimal"
   ]
  },
  {
   "cell_type": "code",
   "execution_count": 31,
   "id": "0f400504-42fb-4e7d-8da0-17ff59211984",
   "metadata": {},
   "outputs": [
    {
     "data": {
      "text/plain": [
       "'269.55'"
      ]
     },
     "execution_count": 31,
     "metadata": {},
     "output_type": "execute_result"
    }
   ],
   "source": [
    "salePriceDecimal=js[\"data\"][\"products\"][0][\"salePriceDecimal\"]\n",
    "salePriceDecimal"
   ]
  },
  {
   "cell_type": "code",
   "execution_count": 32,
   "id": "573694e8-c4fd-4604-a93e-8168f530e819",
   "metadata": {},
   "outputs": [
    {
     "data": {
      "text/plain": [
       "'269.55'"
      ]
     },
     "execution_count": 32,
     "metadata": {},
     "output_type": "execute_result"
    }
   ],
   "source": [
    "discountDecimal=js[\"data\"][\"products\"][0][\"discountDecimal\"]\n",
    "salePriceDecimal"
   ]
  },
  {
   "cell_type": "code",
   "execution_count": 33,
   "id": "6d94756f-8025-4c47-9ae8-f5fbff357e81",
   "metadata": {},
   "outputs": [
    {
     "data": {
      "text/plain": [
       "'55'"
      ]
     },
     "execution_count": 33,
     "metadata": {},
     "output_type": "execute_result"
    }
   ],
   "source": [
    "discountPercent=js[\"data\"][\"products\"][0][\"discountPercent\"]\n",
    "discountPercent"
   ]
  },
  {
   "cell_type": "code",
   "execution_count": null,
   "id": "1a4706b4-5e30-45e8-80ce-d94783dd3132",
   "metadata": {},
   "outputs": [],
   "source": []
  },
  {
   "cell_type": "code",
   "execution_count": null,
   "id": "4d572031-c6bf-44fe-9e2a-47590eaf5e86",
   "metadata": {},
   "outputs": [],
   "source": [
    "data=[]\n",
    "for p in range(1,10):\n",
    "    url=f\"https://pharmeasy.in/api/otc/getCategoryProducts?categoryId=860&page={p}\"\n",
    "    req=requests.get(url)\n",
    "    js=req.json()\n",
    "    \n",
    "    for i in range(20):\n",
    "        d= {\n",
    "            \n",
    "           'name':js[\"data\"][\"products\"][i][\"name\"],\n",
    "           'Brand':js[\"data\"][\"products\"][i][\"manufacturer\"],\n",
    "           'MrpDecimal':js[\"data\"][\"products\"][i][\"mrpDecimal\"],\n",
    "           'salePriceDecimal':js[\"data\"][\"products\"][i][\"salePriceDecimal\"],\n",
    "           'discountDecimal':js[\"data\"][\"products\"][i][\"discountDecimal\"],\n",
    "         'discountPercent':js[\"data\"][\"products\"][i][\"discountPercent\"]\n",
    "       \n",
    "       }\n",
    "        \n",
    "        print(\"____________\")\n",
    "        print(d)\n",
    "        print(\"____________\")\n",
    "        print(\"____________\")\n",
    "        data.append(d)        "
   ]
  },
  {
   "cell_type": "code",
   "execution_count": 60,
   "id": "b3da48ae-8cfe-4570-abcd-5548756cde57",
   "metadata": {},
   "outputs": [
    {
     "data": {
      "text/html": [
       "<div>\n",
       "<style scoped>\n",
       "    .dataframe tbody tr th:only-of-type {\n",
       "        vertical-align: middle;\n",
       "    }\n",
       "\n",
       "    .dataframe tbody tr th {\n",
       "        vertical-align: top;\n",
       "    }\n",
       "\n",
       "    .dataframe thead th {\n",
       "        text-align: right;\n",
       "    }\n",
       "</style>\n",
       "<table border=\"1\" class=\"dataframe\">\n",
       "  <thead>\n",
       "    <tr style=\"text-align: right;\">\n",
       "      <th></th>\n",
       "      <th>name</th>\n",
       "      <th>Brand</th>\n",
       "      <th>MrpDecimal</th>\n",
       "      <th>salePriceDecimal</th>\n",
       "      <th>discountDecimal</th>\n",
       "      <th>discountPercent</th>\n",
       "    </tr>\n",
       "  </thead>\n",
       "  <tbody>\n",
       "    <tr>\n",
       "      <th>0</th>\n",
       "      <td>Wellbeing Nutrition Slow Multivitamin For Men ...</td>\n",
       "      <td>WELLBEING NUTRITION</td>\n",
       "      <td>2199.00</td>\n",
       "      <td>1649.25</td>\n",
       "      <td>549.75</td>\n",
       "      <td>25</td>\n",
       "    </tr>\n",
       "    <tr>\n",
       "      <th>1</th>\n",
       "      <td>Carbamide Forte Biotin 10000mcg 120 Veg Tablets</td>\n",
       "      <td>CARBAMIDE FORTE</td>\n",
       "      <td>795.00</td>\n",
       "      <td>675.75</td>\n",
       "      <td>119.25</td>\n",
       "      <td>15</td>\n",
       "    </tr>\n",
       "    <tr>\n",
       "      <th>2</th>\n",
       "      <td>Oziva Plant Based Herbalance For Menopause 250...</td>\n",
       "      <td>OZIVA</td>\n",
       "      <td>899.00</td>\n",
       "      <td>809.10</td>\n",
       "      <td>89.90</td>\n",
       "      <td>10</td>\n",
       "    </tr>\n",
       "    <tr>\n",
       "      <th>3</th>\n",
       "      <td>Chicnutrix Ashwagandha Ksm-66|600mg + 5% Witha...</td>\n",
       "      <td>CHICNUTRIX</td>\n",
       "      <td>799.00</td>\n",
       "      <td>599.25</td>\n",
       "      <td>199.75</td>\n",
       "      <td>25</td>\n",
       "    </tr>\n",
       "    <tr>\n",
       "      <th>4</th>\n",
       "      <td>Carbamide Forte Vitamin D3 60000 Iu Cholecalci...</td>\n",
       "      <td>CARBAMIDE FORTE</td>\n",
       "      <td>600.00</td>\n",
       "      <td>510.00</td>\n",
       "      <td>90.00</td>\n",
       "      <td>15</td>\n",
       "    </tr>\n",
       "  </tbody>\n",
       "</table>\n",
       "</div>"
      ],
      "text/plain": [
       "                                                name                Brand  \\\n",
       "0  Wellbeing Nutrition Slow Multivitamin For Men ...  WELLBEING NUTRITION   \n",
       "1    Carbamide Forte Biotin 10000mcg 120 Veg Tablets      CARBAMIDE FORTE   \n",
       "2  Oziva Plant Based Herbalance For Menopause 250...                OZIVA   \n",
       "3  Chicnutrix Ashwagandha Ksm-66|600mg + 5% Witha...           CHICNUTRIX   \n",
       "4  Carbamide Forte Vitamin D3 60000 Iu Cholecalci...      CARBAMIDE FORTE   \n",
       "\n",
       "  MrpDecimal salePriceDecimal discountDecimal discountPercent  \n",
       "0    2199.00          1649.25          549.75              25  \n",
       "1     795.00           675.75          119.25              15  \n",
       "2     899.00           809.10           89.90              10  \n",
       "3     799.00           599.25          199.75              25  \n",
       "4     600.00           510.00           90.00              15  "
      ]
     },
     "execution_count": 60,
     "metadata": {},
     "output_type": "execute_result"
    }
   ],
   "source": [
    "'''import pandas as pd \n",
    "df=pd.DataFrame(data)\n",
    "df.head()'''\n",
    "import pandas as pd \n",
    "df= pd.DataFrame(data)\n",
    "df"
   ]
  },
  {
   "cell_type": "code",
   "execution_count": 61,
   "id": "19d5d2e8-4396-41d4-ab4f-087144e4881f",
   "metadata": {},
   "outputs": [],
   "source": [
    "df.to_csv('supliment_pharmeasy.csv',index=False)"
   ]
  },
  {
   "cell_type": "code",
   "execution_count": null,
   "id": "f1108f8c-2693-41ae-8d96-d0da93aaeb1b",
   "metadata": {},
   "outputs": [],
   "source": []
  }
 ],
 "metadata": {
  "kernelspec": {
   "display_name": "Python 3 (ipykernel)",
   "language": "python",
   "name": "python3"
  },
  "language_info": {
   "codemirror_mode": {
    "name": "ipython",
    "version": 3
   },
   "file_extension": ".py",
   "mimetype": "text/x-python",
   "name": "python",
   "nbconvert_exporter": "python",
   "pygments_lexer": "ipython3",
   "version": "3.9.12"
  }
 },
 "nbformat": 4,
 "nbformat_minor": 5
}
