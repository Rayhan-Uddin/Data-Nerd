{
 "cells": [
  {
   "cell_type": "markdown",
   "id": "0e33ae4f",
   "metadata": {},
   "source": [
    "# Python Lists"
   ]
  },
  {
   "cell_type": "code",
   "execution_count": 1,
   "id": "2ef7826d",
   "metadata": {},
   "outputs": [
    {
     "name": "stdout",
     "output_type": "stream",
     "text": [
      "['Mango', 'apple', 'Banana']\n"
     ]
    }
   ],
   "source": [
    "mylist = [\"Mango\",\"apple\",\"Banana\"]\n",
    "print(mylist)"
   ]
  },
  {
   "cell_type": "code",
   "execution_count": 2,
   "id": "eaa6c568",
   "metadata": {},
   "outputs": [
    {
     "name": "stdout",
     "output_type": "stream",
     "text": [
      "3\n"
     ]
    }
   ],
   "source": [
    "print(len(mylist))"
   ]
  },
  {
   "cell_type": "code",
   "execution_count": 3,
   "id": "4dd84f7b",
   "metadata": {},
   "outputs": [
    {
     "data": {
      "text/plain": [
       "3"
      ]
     },
     "execution_count": 3,
     "metadata": {},
     "output_type": "execute_result"
    }
   ],
   "source": [
    "len(mylist)"
   ]
  },
  {
   "cell_type": "code",
   "execution_count": 4,
   "id": "b81eb4c4",
   "metadata": {},
   "outputs": [
    {
     "name": "stdout",
     "output_type": "stream",
     "text": [
      "['mango', 'applle', 'Apple', 'JAckfruit']\n"
     ]
    }
   ],
   "source": [
    "mylist_2=[\"mango\",\"applle\",\"Apple\",\"JAckfruit\"]\n",
    "print(mylist_2)   # list allows duplicate value"
   ]
  },
  {
   "cell_type": "code",
   "execution_count": 5,
   "id": "018a14c8",
   "metadata": {},
   "outputs": [
    {
     "name": "stdout",
     "output_type": "stream",
     "text": [
      "<class 'list'>\n"
     ]
    }
   ],
   "source": [
    "print(type(mylist_2)) #Data type"
   ]
  },
  {
   "cell_type": "code",
   "execution_count": 6,
   "id": "9b51c8e2",
   "metadata": {},
   "outputs": [
    {
     "data": {
      "text/plain": [
       "[1, 5, 7, 9, 3]"
      ]
     },
     "execution_count": 6,
     "metadata": {},
     "output_type": "execute_result"
    }
   ],
   "source": [
    "list1 = [\"apple\", \"banana\", \"cherry\"]\n",
    "list2 = [1, 5, 7, 9, 3]\n",
    "list3 = [True, False, False]\n",
    "list1\n",
    "list2"
   ]
  },
  {
   "cell_type": "markdown",
   "id": "bf875673",
   "metadata": {},
   "source": [
    "# Access List Items"
   ]
  },
  {
   "cell_type": "code",
   "execution_count": 7,
   "id": "3a07bda2",
   "metadata": {},
   "outputs": [
    {
     "data": {
      "text/plain": [
       "['Mango', 'apple', 'Banana']"
      ]
     },
     "execution_count": 7,
     "metadata": {},
     "output_type": "execute_result"
    }
   ],
   "source": [
    "mylist"
   ]
  },
  {
   "cell_type": "markdown",
   "id": "95a11aa9",
   "metadata": {},
   "source": [
    "# Access Items"
   ]
  },
  {
   "cell_type": "code",
   "execution_count": 8,
   "id": "a076f53a",
   "metadata": {},
   "outputs": [
    {
     "name": "stdout",
     "output_type": "stream",
     "text": [
      "Mango\n"
     ]
    }
   ],
   "source": [
    "print(mylist[0])"
   ]
  },
  {
   "cell_type": "code",
   "execution_count": 9,
   "id": "a96b5382",
   "metadata": {},
   "outputs": [
    {
     "name": "stdout",
     "output_type": "stream",
     "text": [
      "Banana\n"
     ]
    }
   ],
   "source": [
    "print(mylist[2])"
   ]
  },
  {
   "cell_type": "code",
   "execution_count": 10,
   "id": "e83ec041",
   "metadata": {},
   "outputs": [
    {
     "name": "stdout",
     "output_type": "stream",
     "text": [
      "Banana\n"
     ]
    }
   ],
   "source": [
    "print(mylist[-1]) #Negative Indexing"
   ]
  },
  {
   "cell_type": "code",
   "execution_count": 11,
   "id": "a39ba2e0",
   "metadata": {},
   "outputs": [
    {
     "data": {
      "text/plain": [
       "['White', 'Red', 'Violet', 'Green', 'yellow', 'SkyBlue']"
      ]
     },
     "execution_count": 11,
     "metadata": {},
     "output_type": "execute_result"
    }
   ],
   "source": [
    "mylist_3=[\"White\",\"Red\",\"Violet\",\"Green\",\"yellow\",\"SkyBlue\"]\n",
    "mylist_3"
   ]
  },
  {
   "cell_type": "code",
   "execution_count": 12,
   "id": "818bc7b7",
   "metadata": {},
   "outputs": [
    {
     "name": "stdout",
     "output_type": "stream",
     "text": [
      "['Violet', 'Green']\n"
     ]
    }
   ],
   "source": [
    "print(mylist_3[2:4]) #Range of Indexes"
   ]
  },
  {
   "cell_type": "code",
   "execution_count": 13,
   "id": "f417453d",
   "metadata": {},
   "outputs": [
    {
     "name": "stdout",
     "output_type": "stream",
     "text": [
      "['White', 'Red', 'Violet', 'Green']\n"
     ]
    }
   ],
   "source": [
    "print(mylist_3[:4]) #indexing from 0 to 3 nmber item"
   ]
  },
  {
   "cell_type": "code",
   "execution_count": 14,
   "id": "d3ccc3ea",
   "metadata": {},
   "outputs": [
    {
     "name": "stdout",
     "output_type": "stream",
     "text": [
      "['Violet', 'Green', 'yellow', 'SkyBlue']\n"
     ]
    }
   ],
   "source": [
    "print(mylist_3[2:]) #indexing from 2 to last  nmber item"
   ]
  },
  {
   "cell_type": "code",
   "execution_count": 15,
   "id": "779e2e97",
   "metadata": {},
   "outputs": [
    {
     "name": "stdout",
     "output_type": "stream",
     "text": [
      "['Violet', 'Green', 'yellow']\n"
     ]
    }
   ],
   "source": [
    "print(mylist_3[-4:-1])"
   ]
  },
  {
   "cell_type": "markdown",
   "id": "d8b80742",
   "metadata": {},
   "source": [
    "# Check if Item Exists"
   ]
  },
  {
   "cell_type": "code",
   "execution_count": 16,
   "id": "18660d99",
   "metadata": {},
   "outputs": [
    {
     "name": "stdout",
     "output_type": "stream",
     "text": [
      "Yes Green is here \n"
     ]
    }
   ],
   "source": [
    "#mylist_3\n",
    "if 'Green' in mylist_3:\n",
    "    print(\"Yes Green is here \")"
   ]
  },
  {
   "cell_type": "code",
   "execution_count": 17,
   "id": "4f913636",
   "metadata": {},
   "outputs": [
    {
     "name": "stdout",
     "output_type": "stream",
     "text": [
      "Wrong nmber \n"
     ]
    }
   ],
   "source": [
    "if 'Black' in mylist_3:\n",
    "    print(\"Yes Green is here \")\n",
    "else: print(\"Wrong nmber \")    "
   ]
  },
  {
   "cell_type": "markdown",
   "id": "a1fd9c0f",
   "metadata": {},
   "source": [
    "# Change List Items"
   ]
  },
  {
   "cell_type": "code",
   "execution_count": 18,
   "id": "621c7684",
   "metadata": {},
   "outputs": [
    {
     "data": {
      "text/plain": [
       "['White', 'Red', 'Violet', 'Green', 'yellow', 'SkyBlue']"
      ]
     },
     "execution_count": 18,
     "metadata": {},
     "output_type": "execute_result"
    }
   ],
   "source": [
    "mylist_3"
   ]
  },
  {
   "cell_type": "code",
   "execution_count": 19,
   "id": "daf7c5d0",
   "metadata": {},
   "outputs": [],
   "source": [
    "mylist_3[1]=\"Cahnge clr\" # insert this  into 1 nmbr "
   ]
  },
  {
   "cell_type": "code",
   "execution_count": 20,
   "id": "1801180c",
   "metadata": {},
   "outputs": [
    {
     "data": {
      "text/plain": [
       "['White', 'Cahnge clr', 'Violet', 'Green', 'yellow', 'SkyBlue']"
      ]
     },
     "execution_count": 20,
     "metadata": {},
     "output_type": "execute_result"
    }
   ],
   "source": [
    "mylist_3"
   ]
  },
  {
   "cell_type": "code",
   "execution_count": 21,
   "id": "f5619e03",
   "metadata": {},
   "outputs": [
    {
     "data": {
      "text/plain": [
       "['White', 'Cahnge clr', 'Violet', 'Green', 'yellow', 'SkyBlue']"
      ]
     },
     "execution_count": 21,
     "metadata": {},
     "output_type": "execute_result"
    }
   ],
   "source": [
    "mylist_3"
   ]
  },
  {
   "cell_type": "code",
   "execution_count": 22,
   "id": "d9bf75ff",
   "metadata": {},
   "outputs": [
    {
     "data": {
      "text/plain": [
       "['White', 'Cahnge clr', 'change clr2', 'change clr3', 'yellow', 'SkyBlue']"
      ]
     },
     "execution_count": 22,
     "metadata": {},
     "output_type": "execute_result"
    }
   ],
   "source": [
    "mylist_3[2:4]=[\"change clr2\",\"change clr3\"] #change one more vallue\n",
    "mylist_3"
   ]
  },
  {
   "cell_type": "code",
   "execution_count": 23,
   "id": "8061e384",
   "metadata": {},
   "outputs": [],
   "source": [
    "mylist_3[4]=\"one value\""
   ]
  },
  {
   "cell_type": "code",
   "execution_count": 24,
   "id": "3b7bb951",
   "metadata": {},
   "outputs": [
    {
     "name": "stdout",
     "output_type": "stream",
     "text": [
      "['White', 'Cahnge clr', 'change clr2', 'change clr3', 'one value', 'SkyBlue']\n"
     ]
    }
   ],
   "source": [
    "print(mylist_3)"
   ]
  },
  {
   "cell_type": "markdown",
   "id": "d11a1d1d",
   "metadata": {},
   "source": [
    "\n",
    "# Insert Items"
   ]
  },
  {
   "cell_type": "code",
   "execution_count": 25,
   "id": "0a46a3e5",
   "metadata": {},
   "outputs": [
    {
     "name": "stdout",
     "output_type": "stream",
     "text": [
      "['White', 'Cahnge clr', 'change clr2', 'change clr3', 'one value', 'SkyBlue']\n"
     ]
    }
   ],
   "source": [
    "print(mylist_3)"
   ]
  },
  {
   "cell_type": "code",
   "execution_count": 26,
   "id": "d334c327",
   "metadata": {},
   "outputs": [],
   "source": [
    "mylist_3.insert(4,\"Black\")# insert a value into the 4th position and old 4 go to 5"
   ]
  },
  {
   "cell_type": "code",
   "execution_count": 27,
   "id": "ab3118f6",
   "metadata": {},
   "outputs": [
    {
     "name": "stdout",
     "output_type": "stream",
     "text": [
      "['White', 'Cahnge clr', 'change clr2', 'change clr3', 'Black', 'one value', 'SkyBlue']\n"
     ]
    }
   ],
   "source": [
    "print(mylist_3)"
   ]
  },
  {
   "cell_type": "markdown",
   "id": "7fd0161c",
   "metadata": {},
   "source": [
    "# Add List Items"
   ]
  },
  {
   "cell_type": "code",
   "execution_count": 28,
   "id": "9d0661f4",
   "metadata": {},
   "outputs": [
    {
     "name": "stdout",
     "output_type": "stream",
     "text": [
      "['apple', 'Banana', 'Mango', 'BlueBerry']\n"
     ]
    }
   ],
   "source": [
    "mylist_4=[\"apple\",'Banana',\"Mango\",\"BlueBerry\"]\n",
    "print(mylist_4)"
   ]
  },
  {
   "cell_type": "code",
   "execution_count": 29,
   "id": "ef87af48",
   "metadata": {},
   "outputs": [],
   "source": [
    "mylist_4.append(\"Orange\") # add this string at the last position"
   ]
  },
  {
   "cell_type": "code",
   "execution_count": 30,
   "id": "7d5d9e4b",
   "metadata": {},
   "outputs": [
    {
     "data": {
      "text/plain": [
       "['apple', 'Banana', 'Mango', 'BlueBerry', 'Orange']"
      ]
     },
     "execution_count": 30,
     "metadata": {},
     "output_type": "execute_result"
    }
   ],
   "source": [
    "mylist_4"
   ]
  },
  {
   "cell_type": "code",
   "execution_count": 31,
   "id": "a79792d9",
   "metadata": {},
   "outputs": [],
   "source": [
    "mylist_4.insert(1,\"JackFruit\")"
   ]
  },
  {
   "cell_type": "code",
   "execution_count": 32,
   "id": "5b3bdc66",
   "metadata": {},
   "outputs": [
    {
     "name": "stdout",
     "output_type": "stream",
     "text": [
      "['apple', 'JackFruit', 'Banana', 'Mango', 'BlueBerry', 'Orange']\n"
     ]
    }
   ],
   "source": [
    "print(mylist_4)"
   ]
  },
  {
   "cell_type": "markdown",
   "id": "f1c1e439",
   "metadata": {},
   "source": [
    "# Add another list to a lsit"
   ]
  },
  {
   "cell_type": "code",
   "execution_count": 33,
   "id": "67ed77b0",
   "metadata": {},
   "outputs": [
    {
     "name": "stdout",
     "output_type": "stream",
     "text": [
      "['Chair', 'Table', 'PC', 'Monitor']\n"
     ]
    }
   ],
   "source": [
    "another_list=[\"Chair\",\"Table\",\"PC\",\"Monitor\"]\n",
    "print(another_list)"
   ]
  },
  {
   "cell_type": "code",
   "execution_count": 34,
   "id": "110e1e53",
   "metadata": {},
   "outputs": [],
   "source": [
    "mylist_4.append(another_list) #appending another list into list_4"
   ]
  },
  {
   "cell_type": "code",
   "execution_count": 35,
   "id": "78031591",
   "metadata": {},
   "outputs": [
    {
     "name": "stdout",
     "output_type": "stream",
     "text": [
      "['apple', 'JackFruit', 'Banana', 'Mango', 'BlueBerry', 'Orange', ['Chair', 'Table', 'PC', 'Monitor']]\n"
     ]
    }
   ],
   "source": [
    "print(mylist_4)"
   ]
  },
  {
   "cell_type": "markdown",
   "id": "2c453c63",
   "metadata": {},
   "source": [
    "# Add Any Iterable"
   ]
  },
  {
   "cell_type": "code",
   "execution_count": 36,
   "id": "1c0bfc8e",
   "metadata": {},
   "outputs": [
    {
     "name": "stdout",
     "output_type": "stream",
     "text": [
      "['apple', 'orange', 'Banana', 'Ijaj', 'Rayhan']\n"
     ]
    }
   ],
   "source": [
    "new_list=[\"apple\",\"orange\",\"Banana\"]#List\n",
    "new_tuple=(\"Ijaj\",\"Rayhan\")#Tuple\n",
    "new_list.extend(new_tuple)# By using .extend can insert touple,Dict \n",
    "print(new_list)"
   ]
  },
  {
   "cell_type": "markdown",
   "id": "e3dfdb7d",
   "metadata": {},
   "source": [
    "# Remove Specified Item"
   ]
  },
  {
   "cell_type": "code",
   "execution_count": 37,
   "id": "1d647603",
   "metadata": {},
   "outputs": [
    {
     "data": {
      "text/plain": [
       "['apple', 'orange', 'Banana', 'Ijaj', 'Rayhan']"
      ]
     },
     "execution_count": 37,
     "metadata": {},
     "output_type": "execute_result"
    }
   ],
   "source": [
    "new_list"
   ]
  },
  {
   "cell_type": "code",
   "execution_count": 44,
   "id": "379ab0e5",
   "metadata": {},
   "outputs": [
    {
     "ename": "ValueError",
     "evalue": "list.remove(x): x not in list",
     "output_type": "error",
     "traceback": [
      "\u001b[1;31m---------------------------------------------------------------------------\u001b[0m",
      "\u001b[1;31mValueError\u001b[0m                                Traceback (most recent call last)",
      "Input \u001b[1;32mIn [44]\u001b[0m, in \u001b[0;36m<cell line: 1>\u001b[1;34m()\u001b[0m\n\u001b[1;32m----> 1\u001b[0m \u001b[43mnew_list\u001b[49m\u001b[38;5;241;43m.\u001b[39;49m\u001b[43mremove\u001b[49m\u001b[43m(\u001b[49m\u001b[38;5;124;43m'\u001b[39;49m\u001b[38;5;124;43mBanana\u001b[39;49m\u001b[38;5;124;43m'\u001b[39;49m\u001b[43m)\u001b[49m\n",
      "\u001b[1;31mValueError\u001b[0m: list.remove(x): x not in list"
     ]
    }
   ],
   "source": [
    "new_list.remove('Banana')"
   ]
  },
  {
   "cell_type": "code",
   "execution_count": 43,
   "id": "331be6f7",
   "metadata": {},
   "outputs": [
    {
     "name": "stdout",
     "output_type": "stream",
     "text": [
      "['apple', 'orange', 'Ijaj', 'Rayhan']\n"
     ]
    }
   ],
   "source": [
    "print(new_list)"
   ]
  },
  {
   "cell_type": "code",
   "execution_count": 45,
   "id": "32bf4918",
   "metadata": {},
   "outputs": [
    {
     "name": "stdout",
     "output_type": "stream",
     "text": [
      "['apple', 'Ijaj', 'Rayhan']\n"
     ]
    }
   ],
   "source": [
    "new_list.remove('orange')#Removing by list item\n",
    "print(new_list)"
   ]
  },
  {
   "cell_type": "markdown",
   "id": "638b1862",
   "metadata": {},
   "source": [
    "# Remove Specified Index"
   ]
  },
  {
   "cell_type": "code",
   "execution_count": 46,
   "id": "067dd800",
   "metadata": {},
   "outputs": [
    {
     "data": {
      "text/plain": [
       "['apple', 'Ijaj', 'Rayhan']"
      ]
     },
     "execution_count": 46,
     "metadata": {},
     "output_type": "execute_result"
    }
   ],
   "source": [
    "new_list"
   ]
  },
  {
   "cell_type": "code",
   "execution_count": 47,
   "id": "c546a140",
   "metadata": {},
   "outputs": [
    {
     "name": "stdout",
     "output_type": "stream",
     "text": [
      "['apple', 'Rayhan']\n"
     ]
    }
   ],
   "source": [
    "new_list.pop(1)\n",
    "print(new_list) #Removing by index number"
   ]
  },
  {
   "cell_type": "code",
   "execution_count": 48,
   "id": "9cf1265a",
   "metadata": {},
   "outputs": [
    {
     "name": "stdout",
     "output_type": "stream",
     "text": [
      "['apple']\n"
     ]
    }
   ],
   "source": [
    "new_list.pop()\n",
    "print(new_list) # If pop() is not specified then it remove the last item\n"
   ]
  },
  {
   "cell_type": "code",
   "execution_count": 53,
   "id": "343f982d",
   "metadata": {},
   "outputs": [
    {
     "name": "stdout",
     "output_type": "stream",
     "text": [
      "['White', 'Cahnge clr', 'change clr2', 'change clr3', 'Black', 'one value', 'SkyBlue']\n"
     ]
    }
   ],
   "source": [
    "print(mylist_3)"
   ]
  },
  {
   "cell_type": "code",
   "execution_count": 55,
   "id": "d6fb872c",
   "metadata": {},
   "outputs": [
    {
     "ename": "NameError",
     "evalue": "name 'mylist_4' is not defined",
     "output_type": "error",
     "traceback": [
      "\u001b[1;31m---------------------------------------------------------------------------\u001b[0m",
      "\u001b[1;31mNameError\u001b[0m                                 Traceback (most recent call last)",
      "Input \u001b[1;32mIn [55]\u001b[0m, in \u001b[0;36m<cell line: 2>\u001b[1;34m()\u001b[0m\n\u001b[0;32m      1\u001b[0m \u001b[38;5;28;01mdel\u001b[39;00m mylist_3[\u001b[38;5;241m0\u001b[39m]\n\u001b[1;32m----> 2\u001b[0m \u001b[38;5;28mprint\u001b[39m(\u001b[43mmylist_4\u001b[49m)\n",
      "\u001b[1;31mNameError\u001b[0m: name 'mylist_4' is not defined"
     ]
    }
   ],
   "source": [
    "del mylist_3[0]\n",
    "print(mylist_4)"
   ]
  },
  {
   "cell_type": "code",
   "execution_count": 56,
   "id": "a16ee28a",
   "metadata": {},
   "outputs": [
    {
     "name": "stdout",
     "output_type": "stream",
     "text": [
      "['banana', 'cherry']\n"
     ]
    }
   ],
   "source": [
    "thislist = [\"apple\", \"banana\", \"cherry\"] #The del keyword also removes the specified index:\n",
    "del thislist[0]\n",
    "print(thislist)"
   ]
  },
  {
   "cell_type": "markdown",
   "id": "f0897429",
   "metadata": {},
   "source": [
    "# Delete the entire list"
   ]
  },
  {
   "cell_type": "code",
   "execution_count": 57,
   "id": "ecf1b7bb",
   "metadata": {},
   "outputs": [
    {
     "name": "stdout",
     "output_type": "stream",
     "text": [
      "['Cahnge clr', 'change clr2', 'change clr3', 'Black', 'one value', 'SkyBlue']\n"
     ]
    }
   ],
   "source": [
    "print(mylist_3)"
   ]
  },
  {
   "cell_type": "code",
   "execution_count": 58,
   "id": "f879ee85",
   "metadata": {},
   "outputs": [],
   "source": [
    "mylist_3.clear()"
   ]
  },
  {
   "cell_type": "code",
   "execution_count": 59,
   "id": "98b6430c",
   "metadata": {},
   "outputs": [
    {
     "data": {
      "text/plain": [
       "[]"
      ]
     },
     "execution_count": 59,
     "metadata": {},
     "output_type": "execute_result"
    }
   ],
   "source": [
    "mylist_3"
   ]
  },
  {
   "cell_type": "markdown",
   "id": "426c3712",
   "metadata": {},
   "source": [
    "# Loop Lists"
   ]
  },
  {
   "cell_type": "code",
   "execution_count": 60,
   "id": "d92d172e",
   "metadata": {},
   "outputs": [
    {
     "name": "stdout",
     "output_type": "stream",
     "text": [
      "['apple', 'JackFruit', 'Banana', 'Mango', 'BlueBerry', 'Orange']\n"
     ]
    }
   ],
   "source": [
    "loop_list=['apple', 'JackFruit', 'Banana', 'Mango', 'BlueBerry', 'Orange']\n",
    "print(loop_list)"
   ]
  },
  {
   "cell_type": "code",
   "execution_count": 61,
   "id": "e1f211fe",
   "metadata": {},
   "outputs": [
    {
     "name": "stdout",
     "output_type": "stream",
     "text": [
      "apple\n",
      "JackFruit\n",
      "Banana\n",
      "Mango\n",
      "BlueBerry\n",
      "Orange\n"
     ]
    }
   ],
   "source": [
    "for x in loop_list:\n",
    "    print(x)"
   ]
  },
  {
   "cell_type": "code",
   "execution_count": 62,
   "id": "3a07cafb",
   "metadata": {},
   "outputs": [
    {
     "data": {
      "text/plain": [
       "['apple', 'JackFruit', 'Banana', 'Mango', 'BlueBerry', 'Orange']"
      ]
     },
     "execution_count": 62,
     "metadata": {},
     "output_type": "execute_result"
    }
   ],
   "source": [
    "loop_list"
   ]
  },
  {
   "cell_type": "code",
   "execution_count": 66,
   "id": "d6df9762",
   "metadata": {},
   "outputs": [
    {
     "name": "stdout",
     "output_type": "stream",
     "text": [
      "['apple', 'JackFruit', 'Banana', 'Mango', 'BlueBerry', 'Orange']\n",
      "['apple', 'JackFruit', 'Banana', 'Mango', 'BlueBerry', 'Orange']\n",
      "['apple', 'JackFruit', 'Banana', 'Mango', 'BlueBerry', 'Orange']\n",
      "['apple', 'JackFruit', 'Banana', 'Mango', 'BlueBerry', 'Orange']\n",
      "['apple', 'JackFruit', 'Banana', 'Mango', 'BlueBerry', 'Orange']\n",
      "['apple', 'JackFruit', 'Banana', 'Mango', 'BlueBerry', 'Orange']\n"
     ]
    }
   ],
   "source": [
    "for x in range(len(loop_list)): #Print all items by referring to their index number:\n",
    "    print(loop_list)"
   ]
  },
  {
   "cell_type": "code",
   "execution_count": 67,
   "id": "79bf881a",
   "metadata": {},
   "outputs": [
    {
     "name": "stdout",
     "output_type": "stream",
     "text": [
      "['apple', 'JackFruit', 'Banana', 'Mango', 'BlueBerry', 'Orange']\n",
      "['apple', 'JackFruit', 'Banana', 'Mango', 'BlueBerry', 'Orange']\n",
      "['apple', 'JackFruit', 'Banana', 'Mango', 'BlueBerry', 'Orange']\n",
      "['apple', 'JackFruit', 'Banana', 'Mango', 'BlueBerry', 'Orange']\n",
      "['apple', 'JackFruit', 'Banana', 'Mango', 'BlueBerry', 'Orange']\n",
      "['apple', 'JackFruit', 'Banana', 'Mango', 'BlueBerry', 'Orange']\n",
      "['apple', 'JackFruit', 'Banana', 'Mango', 'BlueBerry', 'Orange']\n",
      "['apple', 'JackFruit', 'Banana', 'Mango', 'BlueBerry', 'Orange']\n",
      "['apple', 'JackFruit', 'Banana', 'Mango', 'BlueBerry', 'Orange']\n",
      "['apple', 'JackFruit', 'Banana', 'Mango', 'BlueBerry', 'Orange']\n"
     ]
    }
   ],
   "source": [
    "for x in range(10):\n",
    "    print(loop_list)"
   ]
  },
  {
   "cell_type": "code",
   "execution_count": 68,
   "id": "4192fc49",
   "metadata": {},
   "outputs": [
    {
     "data": {
      "text/plain": [
       "['apple', 'JackFruit', 'Banana', 'Mango', 'BlueBerry', 'Orange']"
      ]
     },
     "execution_count": 68,
     "metadata": {},
     "output_type": "execute_result"
    }
   ],
   "source": [
    "loop_list"
   ]
  },
  {
   "cell_type": "code",
   "execution_count": 77,
   "id": "7f3c55d7",
   "metadata": {},
   "outputs": [
    {
     "name": "stdout",
     "output_type": "stream",
     "text": [
      "apple\n",
      "JackFruit\n",
      "Banana\n",
      "Mango\n",
      "BlueBerry\n",
      "Orange\n"
     ]
    }
   ],
   "source": [
    "i=0\n",
    "while i<len(loop_list):\n",
    "    print(loop_list[i])\n",
    "    i=i+1"
   ]
  },
  {
   "cell_type": "code",
   "execution_count": 78,
   "id": "2c53daf5",
   "metadata": {},
   "outputs": [
    {
     "name": "stdout",
     "output_type": "stream",
     "text": [
      "apple\n",
      "JackFruit\n"
     ]
    }
   ],
   "source": [
    "i=0\n",
    "while i<2:\n",
    "    print(loop_list[i])\n",
    "    i=i+1"
   ]
  },
  {
   "cell_type": "markdown",
   "id": "41f36915",
   "metadata": {},
   "source": [
    "# Sort Lists"
   ]
  },
  {
   "cell_type": "code",
   "execution_count": 79,
   "id": "a68da6c3",
   "metadata": {},
   "outputs": [
    {
     "data": {
      "text/plain": [
       "['apple', 'JackFruit', 'Banana', 'Mango', 'BlueBerry', 'Orange']"
      ]
     },
     "execution_count": 79,
     "metadata": {},
     "output_type": "execute_result"
    }
   ],
   "source": [
    "loop_list"
   ]
  },
  {
   "cell_type": "code",
   "execution_count": 80,
   "id": "65651281",
   "metadata": {},
   "outputs": [],
   "source": [
    "loop_list.sort()"
   ]
  },
  {
   "cell_type": "code",
   "execution_count": 81,
   "id": "7c672c94",
   "metadata": {},
   "outputs": [
    {
     "data": {
      "text/plain": [
       "['Banana', 'BlueBerry', 'JackFruit', 'Mango', 'Orange', 'apple']"
      ]
     },
     "execution_count": 81,
     "metadata": {},
     "output_type": "execute_result"
    }
   ],
   "source": [
    "loop_list # Sorting randomly"
   ]
  },
  {
   "cell_type": "code",
   "execution_count": 85,
   "id": "eda78891",
   "metadata": {},
   "outputs": [],
   "source": [
    "sort_list=[20,12,11,22,34,22]\n",
    "sort_list.sort()"
   ]
  },
  {
   "cell_type": "code",
   "execution_count": 86,
   "id": "66792d98",
   "metadata": {},
   "outputs": [
    {
     "name": "stdout",
     "output_type": "stream",
     "text": [
      "[11, 12, 20, 22, 22, 34]\n"
     ]
    }
   ],
   "source": [
    "print(sort_list) #Sorting by Asceding"
   ]
  },
  {
   "cell_type": "code",
   "execution_count": 88,
   "id": "78ab790e",
   "metadata": {},
   "outputs": [
    {
     "data": {
      "text/plain": [
       "['Banana', 'BlueBerry', 'JackFruit', 'Mango', 'Orange', 'apple']"
      ]
     },
     "execution_count": 88,
     "metadata": {},
     "output_type": "execute_result"
    }
   ],
   "source": [
    "loop_list"
   ]
  },
  {
   "cell_type": "code",
   "execution_count": 89,
   "id": "4a9dfc9d",
   "metadata": {},
   "outputs": [
    {
     "name": "stdout",
     "output_type": "stream",
     "text": [
      "['apple', 'Orange', 'Mango', 'JackFruit', 'BlueBerry', 'Banana']\n"
     ]
    }
   ],
   "source": [
    "loop_list.sort(reverse=True) #Sorting by Desceding\n",
    "print(loop_list)"
   ]
  },
  {
   "cell_type": "code",
   "execution_count": 90,
   "id": "ea452f12",
   "metadata": {},
   "outputs": [
    {
     "name": "stdout",
     "output_type": "stream",
     "text": [
      "['Banana', 'BlueBerry', 'JackFruit', 'Mango', 'Orange', 'apple']\n"
     ]
    }
   ],
   "source": [
    "loop_list.sort(reverse=False) #Sorting by Desceding\n",
    "print(loop_list)"
   ]
  },
  {
   "cell_type": "markdown",
   "id": "e19afb08",
   "metadata": {},
   "source": [
    "# case-insensitive sort "
   ]
  },
  {
   "cell_type": "code",
   "execution_count": 93,
   "id": "10fe21db",
   "metadata": {},
   "outputs": [
    {
     "data": {
      "text/plain": [
       "['Banana', 'BlueBerry', 'JackFruit', 'Mango', 'Orange', 'apple']"
      ]
     },
     "execution_count": 93,
     "metadata": {},
     "output_type": "execute_result"
    }
   ],
   "source": [
    "loop_list"
   ]
  },
  {
   "cell_type": "code",
   "execution_count": 95,
   "id": "a8df53a8",
   "metadata": {},
   "outputs": [
    {
     "name": "stdout",
     "output_type": "stream",
     "text": [
      "['apple', 'Banana', 'BlueBerry', 'JackFruit', 'Mango', 'Orange']\n"
     ]
    }
   ],
   "source": [
    "loop_list.sort(key=str.lower)\n",
    "print(loop_list)"
   ]
  },
  {
   "cell_type": "code",
   "execution_count": 99,
   "id": "a5f6e026",
   "metadata": {},
   "outputs": [
    {
     "name": "stdout",
     "output_type": "stream",
     "text": [
      "['Orange', 'Mango', 'JackFruit', 'BlueBerry', 'Banana', 'apple']\n"
     ]
    }
   ],
   "source": [
    "loop_list.reverse() # revere the entire list \n",
    "print(loop_list)"
   ]
  },
  {
   "cell_type": "markdown",
   "id": "0cf9de86",
   "metadata": {},
   "source": [
    "# Join Two Lists"
   ]
  },
  {
   "cell_type": "code",
   "execution_count": 107,
   "id": "cbb0d6a5",
   "metadata": {},
   "outputs": [],
   "source": [
    "list1 = [\"a\", \"b\", \"c\"]\n",
    "list2 = [1, 2, 3]\n",
    "list3=list1 + list2"
   ]
  },
  {
   "cell_type": "code",
   "execution_count": 108,
   "id": "bb976b72",
   "metadata": {},
   "outputs": [
    {
     "name": "stdout",
     "output_type": "stream",
     "text": [
      "['a', 'b', 'c', 1, 2, 3]\n"
     ]
    }
   ],
   "source": [
    "print(list3)"
   ]
  },
  {
   "cell_type": "markdown",
   "id": "9efe1557",
   "metadata": {},
   "source": [
    "# Append list2 into list1:"
   ]
  },
  {
   "cell_type": "code",
   "execution_count": 109,
   "id": "4d141b11",
   "metadata": {},
   "outputs": [
    {
     "name": "stdout",
     "output_type": "stream",
     "text": [
      "['a', 'b', 'c', [1, 2, 3]]\n"
     ]
    }
   ],
   "source": [
    "list1 = [\"a\", \"b\", \"c\"]\n",
    "list2 = [1, 2, 3]\n",
    "list1.append(list2)\n",
    "print(list1)"
   ]
  },
  {
   "cell_type": "code",
   "execution_count": 113,
   "id": "17e3cdc4",
   "metadata": {},
   "outputs": [
    {
     "name": "stdout",
     "output_type": "stream",
     "text": [
      "['a', 'b', 'c', 1, 2, 3]\n"
     ]
    }
   ],
   "source": [
    "list1 = [\"a\", \"b\" , \"c\"]\n",
    "list2 = [1, 2, 3]\n",
    "\n",
    "for x in list2:\n",
    "    list1.append(x)\n",
    "\n",
    "print(list1)"
   ]
  },
  {
   "attachments": {
    "Screenshot%20%28151%29.png": {
     "image/png": "[encoded data removed]"
    }
   },
   "cell_type": "markdown",
   "id": "50d83076",
   "metadata": {},
   "source": [
    "![Screenshot%20%28151%29.png](attachment:Screenshot%20%28151%29.png)"
   ]
  },
  {
   "cell_type": "code",
   "execution_count": 114,
   "id": "e46e025d",
   "metadata": {},
   "outputs": [
    {
     "name": "stdout",
     "output_type": "stream",
     "text": [
      "Banana\n"
     ]
    }
   ],
   "source": [
    "fruits=[\"apple\",\"Banana\",\"Cherry\"]\n",
    "print(fruits[1])"
   ]
  },
  {
   "cell_type": "code",
   "execution_count": null,
   "id": "ab63cf04",
   "metadata": {},
   "outputs": [],
   "source": []
  }
 ],
 "metadata": {
  "kernelspec": {
   "display_name": "Python 3 (ipykernel)",
   "language": "python",
   "name": "python3"
  },
  "language_info": {
   "codemirror_mode": {
    "name": "ipython",
    "version": 3
   },
   "file_extension": ".py",
   "mimetype": "text/x-python",
   "name": "python",
   "nbconvert_exporter": "python",
   "pygments_lexer": "ipython3",
   "version": "3.9.12"
  }
 },
 "nbformat": 4,
 "nbformat_minor": 5
}
