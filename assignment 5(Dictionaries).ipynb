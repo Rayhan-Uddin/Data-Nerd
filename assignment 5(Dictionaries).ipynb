{
 "cells": [
  {
   "cell_type": "markdown",
   "id": "a9472ec4",
   "metadata": {},
   "source": [
    "# Dictionary (key:value pairs)"
   ]
  },
  {
   "cell_type": "code",
   "execution_count": 1,
   "id": "3bb0edd4",
   "metadata": {},
   "outputs": [
    {
     "data": {
      "text/plain": [
       "'\"Dictionary use { } bracket \\nDictionaries are used to store data values in key:value pairs.\\n\\nA dictionary is a collection which is ordered*, changeable and do not allow duplicates.'"
      ]
     },
     "execution_count": 1,
     "metadata": {},
     "output_type": "execute_result"
    }
   ],
   "source": [
    "\"\"\"\"Dictionary use { } bracket \n",
    "Dictionaries are used to store data values in key:value pairs.\n",
    "\n",
    "A dictionary is a collection which is ordered*, changeable and do not allow duplicates.\"\"\""
   ]
  },
  {
   "cell_type": "code",
   "execution_count": 2,
   "id": "fb263799",
   "metadata": {},
   "outputs": [
    {
     "name": "stdout",
     "output_type": "stream",
     "text": [
      "{'Name': 'Rayhan', 'Age': 23, 'Height': '6 ft'}\n"
     ]
    }
   ],
   "source": [
    "dic_1={\n",
    "    \"Name\" : \"Rayhan\", # comma is necessary after variable\n",
    "    \"Age\"  :23,\n",
    "    \"Height\":\"6 ft\",\n",
    "    }\n",
    "print(dic_1)"
   ]
  },
  {
   "cell_type": "code",
   "execution_count": 3,
   "id": "3591b9fd",
   "metadata": {},
   "outputs": [
    {
     "name": "stdout",
     "output_type": "stream",
     "text": [
      "23\n"
     ]
    }
   ],
   "source": [
    "print(dic_1[\"Age\"])"
   ]
  },
  {
   "cell_type": "markdown",
   "id": "4f5f61a4",
   "metadata": {},
   "source": [
    "# Duplicates Not Allowed"
   ]
  },
  {
   "cell_type": "code",
   "execution_count": 4,
   "id": "206208bd",
   "metadata": {},
   "outputs": [
    {
     "name": "stdout",
     "output_type": "stream",
     "text": [
      "{'Name': 'Rayhan', 'Age': 23, 'Height': '6 ft'}\n"
     ]
    }
   ],
   "source": [
    "dic_1={\n",
    "    \"Name\" : \"Rayhan\", \n",
    "    \"Age\"  :23,\n",
    "      \"Age\"  :23,#Duplicate value which is not showing in print\n",
    "    \"Height\":\"6 ft\",\n",
    "    }\n",
    "print(dic_1)"
   ]
  },
  {
   "cell_type": "code",
   "execution_count": 5,
   "id": "7729929d",
   "metadata": {},
   "outputs": [
    {
     "data": {
      "text/plain": [
       "3"
      ]
     },
     "execution_count": 5,
     "metadata": {},
     "output_type": "execute_result"
    }
   ],
   "source": [
    "len(dic_1)"
   ]
  },
  {
   "cell_type": "code",
   "execution_count": 6,
   "id": "f886e257",
   "metadata": {},
   "outputs": [
    {
     "name": "stdout",
     "output_type": "stream",
     "text": [
      "{'Name': 'Rayhan', 'Age': 23, 'Height': '6 ft', 'colors': ['white', 'brown', 'black'], 'Married': False}\n"
     ]
    }
   ],
   "source": [
    "dic_1={\n",
    "    \"Name\" : \"Rayhan\", # comma is necessary after variable\n",
    "    \"Age\"  :23,\n",
    "    \"Height\":\"6 ft\",\n",
    "    \"colors\": [\"white\",\"brown\",\"black\"],\n",
    "    \"Married\" : False\n",
    "    \n",
    "    }\n",
    "print(dic_1)"
   ]
  },
  {
   "cell_type": "code",
   "execution_count": 7,
   "id": "d8c03383",
   "metadata": {},
   "outputs": [
    {
     "data": {
      "text/plain": [
       "dict"
      ]
     },
     "execution_count": 7,
     "metadata": {},
     "output_type": "execute_result"
    }
   ],
   "source": [
    "type(dic_1)"
   ]
  },
  {
   "cell_type": "markdown",
   "id": "2741bc0a",
   "metadata": {},
   "source": [
    "# The dict() Constructor"
   ]
  },
  {
   "cell_type": "code",
   "execution_count": 8,
   "id": "a21833e2",
   "metadata": {},
   "outputs": [
    {
     "name": "stdout",
     "output_type": "stream",
     "text": [
      "{'name': 'Ijaj Ahmed', 'age': 25, 'country': 'Bangladesh'}\n"
     ]
    }
   ],
   "source": [
    "dic_const = dict(name = \"Ijaj Ahmed\", age = 25, country = \"Bangladesh\")\n",
    "print(dic_const)"
   ]
  },
  {
   "cell_type": "markdown",
   "id": "cec9fa14",
   "metadata": {},
   "source": [
    "# Accessing Items"
   ]
  },
  {
   "cell_type": "code",
   "execution_count": 9,
   "id": "dead5412",
   "metadata": {},
   "outputs": [
    {
     "name": "stdout",
     "output_type": "stream",
     "text": [
      "{'Name': 'Rayhan', 'Age': 23, 'Height': '6 ft', 'colors': ['white', 'brown', 'black'], 'Married': False}\n"
     ]
    }
   ],
   "source": [
    "dic_1={\n",
    "    \"Name\" : \"Rayhan\", # comma is necessary after variable\n",
    "    \"Age\"  :23,\n",
    "    \"Height\":\"6 ft\",\n",
    "    \"colors\": [\"white\",\"brown\",\"black\"],\n",
    "    \"Married\" : False\n",
    "    \n",
    "    }\n",
    "print(dic_1)"
   ]
  },
  {
   "cell_type": "code",
   "execution_count": 10,
   "id": "7e9c5c83",
   "metadata": {},
   "outputs": [
    {
     "name": "stdout",
     "output_type": "stream",
     "text": [
      "23\n"
     ]
    }
   ],
   "source": [
    "print(dic_1[\"Age\"])"
   ]
  },
  {
   "cell_type": "code",
   "execution_count": 11,
   "id": "0a0c94cb",
   "metadata": {},
   "outputs": [
    {
     "name": "stdout",
     "output_type": "stream",
     "text": [
      "23\n"
     ]
    }
   ],
   "source": [
    "x=dic_1[\"Age\"]\n",
    "print(x)"
   ]
  },
  {
   "cell_type": "code",
   "execution_count": 12,
   "id": "6d2e27be",
   "metadata": {},
   "outputs": [
    {
     "data": {
      "text/plain": [
       "23"
      ]
     },
     "execution_count": 12,
     "metadata": {},
     "output_type": "execute_result"
    }
   ],
   "source": [
    "x=dic_1.get(\"Age\")\n",
    "x"
   ]
  },
  {
   "cell_type": "code",
   "execution_count": 13,
   "id": "77ec3781",
   "metadata": {},
   "outputs": [
    {
     "name": "stdout",
     "output_type": "stream",
     "text": [
      "23\n"
     ]
    }
   ],
   "source": [
    "print(dic_1.get(\"Age\"))"
   ]
  },
  {
   "cell_type": "code",
   "execution_count": 14,
   "id": "07491bf5",
   "metadata": {},
   "outputs": [
    {
     "name": "stdout",
     "output_type": "stream",
     "text": [
      "dict_keys(['Name', 'Age', 'Height', 'colors', 'Married'])\n"
     ]
    }
   ],
   "source": [
    "dic_1={\n",
    "    \"Name\" : \"Rayhan\", # comma is necessary after variable\n",
    "    \"Age\"  :23,\n",
    "    \"Height\":\"6 ft\",\n",
    "    \"colors\": [\"white\",\"brown\",\"black\"],\n",
    "    \"Married\" : False\n",
    "     }\n",
    "x=dic_1.keys()\n",
    "print(x)"
   ]
  },
  {
   "cell_type": "code",
   "execution_count": 15,
   "id": "6cab6f4a",
   "metadata": {},
   "outputs": [
    {
     "name": "stdout",
     "output_type": "stream",
     "text": [
      "dict_keys(['Name', 'Age', 'Height', 'colors', 'Married'])\n"
     ]
    }
   ],
   "source": [
    "print(dic_1.keys()) # onkly take the keys of a dict"
   ]
  },
  {
   "cell_type": "code",
   "execution_count": 16,
   "id": "6aa5f281",
   "metadata": {},
   "outputs": [
    {
     "name": "stdout",
     "output_type": "stream",
     "text": [
      "{'Name': 'Rayhan', 'Age': 23, 'Height': '6 ft', 'colors': ['white', 'brown', 'black'], 'Married': False, 'CGPA': 3.5}\n"
     ]
    }
   ],
   "source": [
    "dic_1[\"CGPA\"]=3.50\n",
    "print(dic_1)"
   ]
  },
  {
   "cell_type": "code",
   "execution_count": 17,
   "id": "987aec0e",
   "metadata": {},
   "outputs": [
    {
     "name": "stdout",
     "output_type": "stream",
     "text": [
      "dict_values(['Rayhan', 23, '6 ft', ['white', 'brown', 'black'], False, 3.5])\n"
     ]
    }
   ],
   "source": [
    "print(dic_1.values()) # Only take the values"
   ]
  },
  {
   "cell_type": "code",
   "execution_count": null,
   "id": "70437165",
   "metadata": {},
   "outputs": [],
   "source": []
  },
  {
   "cell_type": "code",
   "execution_count": 18,
   "id": "4fa48ddc",
   "metadata": {},
   "outputs": [
    {
     "name": "stdout",
     "output_type": "stream",
     "text": [
      "dict_values(['Rayhan', 23, '6 ft', ['white', 'brown', 'black'], False])\n",
      "{'Name': 'Rayhan', 'Age': 23, 'Height': '6 ft', 'colors': ['white', 'brown', 'black'], 'Married': 2022}\n"
     ]
    }
   ],
   "source": [
    "dic_1={\n",
    "    \"Name\" : \"Rayhan\", \n",
    "    \"Age\"  :23,\n",
    "    \"Height\":\"6 ft\",\n",
    "    \"colors\": [\"white\",\"brown\",\"black\"],\n",
    "    \"Married\" : False\n",
    "     }\n",
    "print(dic_1.values())\n",
    "dic_1['Married']=2022 #Make a change in the original dictionary, and see that the values list gets updated as well:\n",
    "print(dic_1)\n"
   ]
  },
  {
   "cell_type": "markdown",
   "id": "275caafe",
   "metadata": {},
   "source": [
    "# Get Items"
   ]
  },
  {
   "cell_type": "code",
   "execution_count": 19,
   "id": "880481c8",
   "metadata": {},
   "outputs": [
    {
     "name": "stdout",
     "output_type": "stream",
     "text": [
      "dict_items([('Name', 'Rayhan'), ('Age', 23), ('Height', '6 ft'), ('colors', ['white', 'brown', 'black']), ('Married', False), ('Birth', 1999)])\n",
      "{'Name': 'Rayhan', 'Age': 23, 'Height': '6 ft', 'colors': ['white', 'brown', 'black'], 'Married': False, 'Birth': 1998}\n"
     ]
    }
   ],
   "source": [
    "dic_1={\n",
    "    \"Name\" : \"Rayhan\", \n",
    "    \"Age\"  :23,\n",
    "    \"Height\":\"6 ft\",\n",
    "    \"colors\": [\"white\",\"brown\",\"black\"],\n",
    "    \"Married\" : False,\n",
    "    \"Birth\":1999\n",
    "     }\n",
    "print(dic_1.items())\n",
    "dic_1[\"Birth\"]=1998\n",
    "print(dic_1)"
   ]
  },
  {
   "cell_type": "markdown",
   "id": "c7ac20b0",
   "metadata": {},
   "source": [
    "# if Key Exists"
   ]
  },
  {
   "cell_type": "code",
   "execution_count": 20,
   "id": "f52e0a08",
   "metadata": {},
   "outputs": [
    {
     "name": "stdout",
     "output_type": "stream",
     "text": [
      " Yes\n"
     ]
    }
   ],
   "source": [
    "dic_1={\n",
    "    \"Name\" : \"Rayhan\", \n",
    "    \"Age\"  :23,\n",
    "    \"Height\":\"6 ft\",\n",
    "    \"colors\": [\"white\",\"brown\",\"black\"],\n",
    "    \"Married\" : False,\n",
    "    \"Birth\":1999\n",
    "     }\n",
    "if \"Birth\" in dic_1:\n",
    "    print (\" Yes\")"
   ]
  },
  {
   "cell_type": "markdown",
   "id": "3a071e45",
   "metadata": {},
   "source": [
    "# Change Values"
   ]
  },
  {
   "cell_type": "code",
   "execution_count": 21,
   "id": "cc049399",
   "metadata": {},
   "outputs": [
    {
     "data": {
      "text/plain": [
       "{'Name': 'Rayhan',\n",
       " 'Age': 23,\n",
       " 'Height': '6 ft',\n",
       " 'colors': ['white', 'brown', 'black'],\n",
       " 'Married': False,\n",
       " 'Birth': 2000}"
      ]
     },
     "execution_count": 21,
     "metadata": {},
     "output_type": "execute_result"
    }
   ],
   "source": [
    "dic_1={\n",
    "    \"Name\" : \"Rayhan\", \n",
    "    \"Age\"  :23,\n",
    "    \"Height\":\"6 ft\",\n",
    "    \"colors\": [\"white\",\"brown\",\"black\"],\n",
    "    \"Married\" : False,\n",
    "    \"Birth\":1999\n",
    "     }\n",
    "dic_1[\"Birth\"]=2000 # chnage valuue 1999 to 2000\n",
    "dic_1"
   ]
  },
  {
   "cell_type": "markdown",
   "id": "457ad2f7",
   "metadata": {},
   "source": [
    "# Update Dictionary"
   ]
  },
  {
   "cell_type": "code",
   "execution_count": 22,
   "id": "09530d8f",
   "metadata": {},
   "outputs": [
    {
     "name": "stdout",
     "output_type": "stream",
     "text": [
      "{'Name': 'Rayhan', 'Age': 24, 'Height': '6 ft', 'colors': ['white', 'brown', 'black'], 'Married': False, 'Birth': 2000}\n"
     ]
    }
   ],
   "source": [
    "dic_1.update({\"Age\":24})\n",
    "print(dic_1)"
   ]
  },
  {
   "cell_type": "markdown",
   "id": "afaba40b",
   "metadata": {},
   "source": [
    "# Adding Items"
   ]
  },
  {
   "cell_type": "code",
   "execution_count": 23,
   "id": "af0f42d5",
   "metadata": {},
   "outputs": [
    {
     "name": "stdout",
     "output_type": "stream",
     "text": [
      "{'Name': 'Rayhan', 'Age': 23, 'Height': '6 ft', 'colors': ['white', 'brown', 'black'], 'Married': False, 'Birth': 1999, 'CGPA': 3.5}\n"
     ]
    }
   ],
   "source": [
    "dic_1={\n",
    "    \"Name\" : \"Rayhan\", \n",
    "    \"Age\"  :23,\n",
    "    \"Height\":\"6 ft\",\n",
    "    \"colors\": [\"white\",\"brown\",\"black\"],\n",
    "    \"Married\" : False,\n",
    "    \"Birth\":1999\n",
    "     }\n",
    "dic_1[\"CGPA\"]=3.5\n",
    "print(dic_1)"
   ]
  },
  {
   "cell_type": "markdown",
   "id": "105a70fb",
   "metadata": {},
   "source": [
    "# Removing Items"
   ]
  },
  {
   "cell_type": "code",
   "execution_count": 24,
   "id": "010c722c",
   "metadata": {},
   "outputs": [
    {
     "data": {
      "text/plain": [
       "{'Name': 'Rayhan',\n",
       " 'Age': 23,\n",
       " 'Height': '6 ft',\n",
       " 'colors': ['white', 'brown', 'black'],\n",
       " 'Married': False}"
      ]
     },
     "execution_count": 24,
     "metadata": {},
     "output_type": "execute_result"
    }
   ],
   "source": [
    "dic_1={\n",
    "    \"Name\" : \"Rayhan\", \n",
    "    \"Age\"  :23,\n",
    "    \"Height\":\"6 ft\",\n",
    "    \"colors\": [\"white\",\"brown\",\"black\"],\n",
    "    \"Married\" : False,\n",
    "    \"Birth\":1999\n",
    "     }\n",
    "dic_1.pop(\"Birth\") # remove Birth keys and items\n",
    "dic_1"
   ]
  },
  {
   "cell_type": "code",
   "execution_count": 25,
   "id": "30532c1b",
   "metadata": {},
   "outputs": [
    {
     "name": "stdout",
     "output_type": "stream",
     "text": [
      "{'Name': 'Rayhan', 'Age': 23, 'Height': '6 ft', 'colors': ['white', 'brown', 'black']}\n"
     ]
    }
   ],
   "source": [
    "dic_1.popitem()\n",
    "print(dic_1)"
   ]
  },
  {
   "cell_type": "code",
   "execution_count": 26,
   "id": "c9e5206e",
   "metadata": {},
   "outputs": [],
   "source": [
    "dic_1.clear()"
   ]
  },
  {
   "cell_type": "code",
   "execution_count": 27,
   "id": "0515e2b4",
   "metadata": {},
   "outputs": [
    {
     "data": {
      "text/plain": [
       "{}"
      ]
     },
     "execution_count": 27,
     "metadata": {},
     "output_type": "execute_result"
    }
   ],
   "source": [
    "dic_1"
   ]
  },
  {
   "cell_type": "markdown",
   "id": "6de98ea1",
   "metadata": {},
   "source": [
    "# Copy a Dictionary"
   ]
  },
  {
   "cell_type": "code",
   "execution_count": 28,
   "id": "1cec7180",
   "metadata": {},
   "outputs": [],
   "source": [
    "dic_1={\n",
    "    \"Name\" : \"Rayhan\", \n",
    "    \"Age\"  :23,\n",
    "    \"Height\":\"6 ft\",\n",
    "    \"colors\": [\"white\",\"brown\",\"black\"],\n",
    "    \"Married\" : False,\n",
    "    \"Birth\":1999\n",
    "     }\n",
    "dic_copy=dic_1.copy() # enter the wholw dict into dic_3 "
   ]
  },
  {
   "cell_type": "code",
   "execution_count": 29,
   "id": "59fda57f",
   "metadata": {},
   "outputs": [
    {
     "data": {
      "text/plain": [
       "{'Name': 'Rayhan',\n",
       " 'Age': 23,\n",
       " 'Height': '6 ft',\n",
       " 'colors': ['white', 'brown', 'black'],\n",
       " 'Married': False,\n",
       " 'Birth': 1999}"
      ]
     },
     "execution_count": 29,
     "metadata": {},
     "output_type": "execute_result"
    }
   ],
   "source": [
    "dic_copy"
   ]
  },
  {
   "cell_type": "markdown",
   "id": "6771bfc9",
   "metadata": {},
   "source": [
    "# Nested Dictionaries"
   ]
  },
  {
   "cell_type": "code",
   "execution_count": 30,
   "id": "40f16e5f",
   "metadata": {},
   "outputs": [
    {
     "data": {
      "text/plain": [
       "{'car_1': {'name': 'Toyota', 'clr': 'red', 'age': 5},\n",
       " 'car_2': {'name': 'Honda', 'clr': 'Blue', 'age': 6},\n",
       " 'car_3': {'name': 'Suzuki', 'clr': 'white', 'age': 3}}"
      ]
     },
     "execution_count": 30,
     "metadata": {},
     "output_type": "execute_result"
    }
   ],
   "source": [
    "car=       {\n",
    "    \"car_1\":{\n",
    "    \"name\" :\"Toyota\",\n",
    "    \"clr\"  :\"red\",\n",
    "    \"age\"  : 5\n",
    "    },\n",
    "    \"car_2\":{\n",
    "    \"name\":\"Honda\",\n",
    "    \"clr\" : \"Blue\",\n",
    "    \"age\" : 6\n",
    "    },\n",
    "    \"car_3\":{\n",
    "    \"name\":\"Suzuki\",\n",
    "    \"clr\" : \"white\",\n",
    "    \"age\" : 3\n",
    "    } \n",
    "}\n",
    "car\n"
   ]
  },
  {
   "cell_type": "code",
   "execution_count": 31,
   "id": "5ce0a321",
   "metadata": {},
   "outputs": [
    {
     "data": {
      "text/plain": [
       "{'car_1': {'name': 'Toyota', 'clr': 'red', 'age': 5},\n",
       " 'car_2': {'name': 'Honda', 'clr': 'Blue', 'age': 6},\n",
       " 'car_3': {'name': 'Suzuki', 'clr': 'white', 'age': 3}}"
      ]
     },
     "execution_count": 31,
     "metadata": {},
     "output_type": "execute_result"
    }
   ],
   "source": [
    "car_1={\n",
    "    \"name\" :\"Toyota\",\n",
    "    \"clr\"  :\"red\",\n",
    "    \"age\"  : 5\n",
    "    }\n",
    "car_2= {\n",
    "    \"name\":\"Honda\",\n",
    "    \"clr\" : \"Blue\",\n",
    "    \"age\" : 6\n",
    "    }\n",
    "car_3={\n",
    "    \"name\":\"Suzuki\",\n",
    "    \"clr\" : \"white\",\n",
    "    \"age\" : 3\n",
    "    } \n",
    "car_name={\n",
    "       \"car_1\":car_1,\n",
    "        \"car_2\":car_2,\n",
    "        \"car_3\":car_3\n",
    "        }\n",
    "car_name"
   ]
  },
  {
   "cell_type": "markdown",
   "id": "06b91d40",
   "metadata": {},
   "source": [
    "# Exercise:"
   ]
  },
  {
   "cell_type": "code",
   "execution_count": 32,
   "id": "006ec323",
   "metadata": {},
   "outputs": [
    {
     "name": "stdout",
     "output_type": "stream",
     "text": [
      "Mustang\n"
     ]
    }
   ],
   "source": [
    "car ={\n",
    "  \"brand\": \"Ford\",\n",
    "  \"model\": \"Mustang\",\n",
    "  \"year\": 1964\n",
    "}\n",
    "print(car.get(\"model\"))"
   ]
  },
  {
   "cell_type": "code",
   "execution_count": null,
   "id": "dd41eb2a",
   "metadata": {},
   "outputs": [],
   "source": []
  }
 ],
 "metadata": {
  "kernelspec": {
   "display_name": "Python 3 (ipykernel)",
   "language": "python",
   "name": "python3"
  },
  "language_info": {
   "codemirror_mode": {
    "name": "ipython",
    "version": 3
   },
   "file_extension": ".py",
   "mimetype": "text/x-python",
   "name": "python",
   "nbconvert_exporter": "python",
   "pygments_lexer": "ipython3",
   "version": "3.9.12"
  }
 },
 "nbformat": 4,
 "nbformat_minor": 5
}
