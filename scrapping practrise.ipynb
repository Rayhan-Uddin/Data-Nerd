{
 "cells": [
  {
   "cell_type": "code",
   "execution_count": 1,
   "id": "147ea2c7-ded0-4135-8f18-94800f0a22d8",
   "metadata": {},
   "outputs": [],
   "source": [
    "#request\n",
    "#json"
   ]
  },
  {
   "cell_type": "code",
   "execution_count": 2,
   "id": "5695a05b-9af6-48b1-b09b-b074f8f6a66d",
   "metadata": {},
   "outputs": [],
   "source": [
    "import requests\n",
    "import json"
   ]
  },
  {
   "cell_type": "code",
   "execution_count": 3,
   "id": "1eb11d19-9769-419e-8e67-af670cd16605",
   "metadata": {},
   "outputs": [],
   "source": [
    "url=\"https://pharmeasy.in/api/otc/getCategoryProducts?categoryId=442&page=1\"\n"
   ]
  },
  {
   "cell_type": "code",
   "execution_count": 4,
   "id": "4d5998a2-4999-43c6-a2aa-88e6f2be1809",
   "metadata": {},
   "outputs": [
    {
     "data": {
      "text/plain": [
       "<Response [200]>"
      ]
     },
     "execution_count": 4,
     "metadata": {},
     "output_type": "execute_result"
    }
   ],
   "source": [
    "req=requests.get(url)\n",
    "req"
   ]
  },
  {
   "cell_type": "code",
   "execution_count": 5,
   "id": "403b7024-fe08-44cd-9a7c-42201015a47e",
   "metadata": {},
   "outputs": [
    {
     "data": {
      "text/plain": [
       "200"
      ]
     },
     "execution_count": 5,
     "metadata": {},
     "output_type": "execute_result"
    }
   ],
   "source": [
    "req.status_code"
   ]
  },
  {
   "cell_type": "code",
   "execution_count": 6,
   "id": "fb777a6b-eae3-4c1f-9a27-771bfc904ebe",
   "metadata": {},
   "outputs": [
    {
     "data": {
      "text/plain": [
       "dict_keys(['status', 'data'])"
      ]
     },
     "execution_count": 6,
     "metadata": {},
     "output_type": "execute_result"
    }
   ],
   "source": [
    "js=req.json()\n",
    "js.keys()"
   ]
  },
  {
   "cell_type": "code",
   "execution_count": 7,
   "id": "081b9955-ca03-43a5-a713-c4c5863ddafb",
   "metadata": {},
   "outputs": [
    {
     "data": {
      "text/plain": [
       "dict_keys(['products', 'meta', 'queryParams'])"
      ]
     },
     "execution_count": 7,
     "metadata": {},
     "output_type": "execute_result"
    }
   ],
   "source": [
    "js[\"data\"].keys()"
   ]
  },
  {
   "cell_type": "code",
   "execution_count": 8,
   "id": "b713d7ed-4cd4-48f9-83bb-8e86dafc26fa",
   "metadata": {},
   "outputs": [
    {
     "data": {
      "text/plain": [
       "dict_keys(['productId', 'name', 'slug', 'manufacturer', 'productType', 'mrpDecimal', 'salePriceDecimal', 'discountDecimal', 'discountPercent', 'categoryId', 'damImages', 'labelDetails', 'ratingDetails', 'listingId', 'productTierAttributes', 'productSubstitutionAttributes', 'productAvailabilityFlags', 'maxQuantity', 'productVolume', 'similarProductsAttributes', 'isAvailable', 'images'])"
      ]
     },
     "execution_count": 8,
     "metadata": {},
     "output_type": "execute_result"
    }
   ],
   "source": [
    "name=js[\"data\"][\"products\"][0].keys() #0 no. indesx e er data acces krbe\n",
    "name"
   ]
  },
  {
   "cell_type": "code",
   "execution_count": 9,
   "id": "86944520-6f87-41a7-8e7d-1499f5b14976",
   "metadata": {},
   "outputs": [
    {
     "data": {
      "text/plain": [
       "'Omron Hem 7156 Digital Blood Pressure Monitor With 360 Accuracy Intelli Wrap Cuff For All Arm Sizes'"
      ]
     },
     "execution_count": 9,
     "metadata": {},
     "output_type": "execute_result"
    }
   ],
   "source": [
    "name=js[\"data\"][\"products\"][0]['name']\n",
    "name"
   ]
  },
  {
   "cell_type": "code",
   "execution_count": 10,
   "id": "1ee1a9cf-4e06-432b-8723-44bb77621c98",
   "metadata": {},
   "outputs": [
    {
     "data": {
      "text/plain": [
       "'OMRON'"
      ]
     },
     "execution_count": 10,
     "metadata": {},
     "output_type": "execute_result"
    }
   ],
   "source": [
    "brand=js[\"data\"][\"products\"][0]['manufacturer']\n",
    "brand"
   ]
  },
  {
   "cell_type": "code",
   "execution_count": 11,
   "id": "8c65e99b-afe8-42bd-b25f-082991554679",
   "metadata": {},
   "outputs": [
    {
     "data": {
      "text/plain": [
       "'3860.00'"
      ]
     },
     "execution_count": 11,
     "metadata": {},
     "output_type": "execute_result"
    }
   ],
   "source": [
    "mrpdecimal=js[\"data\"][\"products\"][0]['mrpDecimal']\n",
    "mrpdecimal"
   ]
  },
  {
   "cell_type": "code",
   "execution_count": 12,
   "id": "c204d492-0a3b-43fa-8b7f-a017dcf967f9",
   "metadata": {},
   "outputs": [
    {
     "data": {
      "text/plain": [
       "'3010.80'"
      ]
     },
     "execution_count": 12,
     "metadata": {},
     "output_type": "execute_result"
    }
   ],
   "source": [
    "sales_price_decimal=js[\"data\"][\"products\"][0]['salePriceDecimal']\n",
    "sales_price_decimal"
   ]
  },
  {
   "cell_type": "code",
   "execution_count": 13,
   "id": "f804f84e-1735-4c1d-b1c8-4a2482c6ba01",
   "metadata": {},
   "outputs": [
    {
     "data": {
      "text/plain": [
       "'849.20'"
      ]
     },
     "execution_count": 13,
     "metadata": {},
     "output_type": "execute_result"
    }
   ],
   "source": [
    "discountDecimal=js[\"data\"][\"products\"][0]['discountDecimal']\n",
    "discountDecimal\n",
    "\n"
   ]
  },
  {
   "cell_type": "code",
   "execution_count": 14,
   "id": "7b55513c-156d-4ec5-a13e-484364bc10f4",
   "metadata": {},
   "outputs": [
    {
     "data": {
      "text/plain": [
       "'22'"
      ]
     },
     "execution_count": 14,
     "metadata": {},
     "output_type": "execute_result"
    }
   ],
   "source": [
    "discountPercent=js[\"data\"][\"products\"][0]['discountPercent']\n",
    "discountPercent"
   ]
  },
  {
   "cell_type": "code",
   "execution_count": 15,
   "id": "254662a3-b46e-49c9-9ca1-8f791a45d7c3",
   "metadata": {},
   "outputs": [
    {
     "data": {
      "text/plain": [
       "'https://cdn01.pharmeasy.in/dam/products_otc/N17265/omron-hem-7156-digital-blood-pressure-monitor-with-360-accuracy-intelli-wrap-cuff-for-all-arm-sizes-2-1671744000.jpg?dim=300x0&f=jpg&dpr=3&q=60'"
      ]
     },
     "execution_count": 15,
     "metadata": {},
     "output_type": "execute_result"
    }
   ],
   "source": [
    "image=js[\"data\"][\"products\"][0]['images'][0] # 0 index show krle list akare dekhabe na\n",
    "image"
   ]
  },
  {
   "cell_type": "code",
   "execution_count": 16,
   "id": "ff82de4a-10af-43e4-a96e-6e6a97066038",
   "metadata": {},
   "outputs": [
    {
     "data": {
      "text/plain": [
       "'for p in range(1,4):\\n    url=f\"https://pharmeasy.in/api/otc/getCategoryProducts?categoryId=442&page={p}\"\\n    req=requests.get(url)\\n    js=req.json()\\n    '"
      ]
     },
     "execution_count": 16,
     "metadata": {},
     "output_type": "execute_result"
    }
   ],
   "source": [
    "'''for p in range(1,4):\n",
    "    url=f\"https://pharmeasy.in/api/otc/getCategoryProducts?categoryId=442&page={p}\"\n",
    "    req=requests.get(url)\n",
    "    js=req.json()\n",
    "    '''"
   ]
  },
  {
   "cell_type": "code",
   "execution_count": 17,
   "id": "1489ddce-7c4f-422c-b564-3056eeedf55e",
   "metadata": {},
   "outputs": [
    {
     "name": "stdout",
     "output_type": "stream",
     "text": [
      "_____________\n",
      "{'name': 'Beurer Upper Arm Blood Pressure Monitor - Bm 27', 'Brand': 'BEURER', 'mrpdecimal': '3060 TK', 'sales_price_decimal': '1499.40 TK', 'discountDecimal': '1560.60', 'discountPercent': '51 %'}\n",
      "_____________\n",
      "_____________\n",
      "{'name': 'Bpl Bp Monitor B16', 'Brand': 'BPL', 'mrpdecimal': '1730 TK', 'sales_price_decimal': '1730.00 TK', 'discountDecimal': None, 'discountPercent': '0 %'}\n",
      "_____________\n",
      "_____________\n",
      "{'name': 'Dr. Odin Digital Blood Pressure Monitor White-bsx516', 'Brand': 'DR.ODIN', 'mrpdecimal': '1560 TK', 'sales_price_decimal': '1560.00 TK', 'discountDecimal': None, 'discountPercent': '0 %'}\n",
      "_____________\n",
      "_____________\n",
      "{'name': 'Dr.odin Digital Blood Pressure Monitor (black)-tsb-602s', 'Brand': 'DR.ODIN', 'mrpdecimal': '1570 TK', 'sales_price_decimal': '1570.00 TK', 'discountDecimal': None, 'discountPercent': '0 %'}\n",
      "_____________\n",
      "_____________\n",
      "{'name': 'Beurer Bm 35 Upper Arm Blood Pressure Monitor', 'Brand': 'BEURER', 'mrpdecimal': '2380 TK', 'sales_price_decimal': '2380.00 TK', 'discountDecimal': None, 'discountPercent': '0 %'}\n",
      "_____________\n",
      "_____________\n",
      "{'name': 'Prozo Plus Fully Automatic Upper Arm Blood Pressure Monitor Bp Monitor With Premium Quality', 'Brand': 'PROZO PLUS', 'mrpdecimal': '2499 TK', 'sales_price_decimal': '2499.00 TK', 'discountDecimal': None, 'discountPercent': '0 %'}\n",
      "_____________\n",
      "_____________\n",
      "{'name': 'Ghi Gbp-002 Bp Monitor', 'Brand': 'GHI', 'mrpdecimal': '2800 TK', 'sales_price_decimal': '2800.00 TK', 'discountDecimal': None, 'discountPercent': '0 %'}\n",
      "_____________\n",
      "_____________\n",
      "{'name': 'Poct Pbm 01 Bp Monitor - 1pc', 'Brand': 'POCT', 'mrpdecimal': '1500 TK', 'sales_price_decimal': '1500.00 TK', 'discountDecimal': None, 'discountPercent': '0 %'}\n",
      "_____________\n",
      "_____________\n",
      "{'name': 'Easycare (german Tech)fully Automatic Digital Blood Pressure Monitor Usb Power Supply-ec9000', 'Brand': 'EASYCARE', 'mrpdecimal': '1499 TK', 'sales_price_decimal': '1499.00 TK', 'discountDecimal': None, 'discountPercent': '0 %'}\n",
      "_____________\n",
      "_____________\n",
      "{'name': 'Medlife Automatic Blood Pressure Monitor Device 1', 'Brand': 'MEDLIFE', 'mrpdecimal': '2850 TK', 'sales_price_decimal': '855.00 TK', 'discountDecimal': '1995.00', 'discountPercent': '70 %'}\n",
      "_____________\n",
      "_____________\n",
      "{'name': 'Easycare Big Display Digital Blood Pressure Monitor With Fully Automatic Arm Style', 'Brand': 'EASYCARE', 'mrpdecimal': '3099 TK', 'sales_price_decimal': '3099.00 TK', 'discountDecimal': None, 'discountPercent': '0 %'}\n",
      "_____________\n",
      "_____________\n",
      "{'name': 'Easycare (german Tech.) Digital Blood Pressure Monitor', 'Brand': 'EASYCARE', 'mrpdecimal': '1549 TK', 'sales_price_decimal': '1549.00 TK', 'discountDecimal': None, 'discountPercent': '0 %'}\n",
      "_____________\n"
     ]
    }
   ],
   "source": [
    "data=[]#llast a eta kore chi cz data gula ekta  list a append krte hbe\n",
    "for p in range(1,4):\n",
    "    url=f\"https://pharmeasy.in/api/otc/getCategoryProducts?categoryId=442&page={p}\"\n",
    "    req=requests.get(url)\n",
    "    js=req.json()\n",
    "for i in range(12):\n",
    "    d={\n",
    "    'name':js[\"data\"][\"products\"][i]['name'],\n",
    "    'Brand':js[\"data\"][\"products\"][i]['manufacturer'],\n",
    "    \"mrpdecimal\":js[\"data\"][\"products\"][i]['mrpDecimal'].split(\".\")[0] + \" TK\",#split kore doshoimik dara vag kora hoyete o= point er ager nmber\n",
    "    'sales_price_decimal':js[\"data\"][\"products\"][i]['salePriceDecimal']+\" TK\",\n",
    "    'discountDecimal':js[\"data\"][\"products\"][i]['discountDecimal'],\n",
    "    \"discountPercent\":js[\"data\"][\"products\"][i]['discountPercent']+\" %\"\n",
    "        \n",
    "    }\n",
    "    print('_____________')\n",
    "    print(d)\n",
    "    print('_____________')\n",
    "    data.append(d)#list a append kora hoyeche"
   ]
  },
  {
   "cell_type": "code",
   "execution_count": 19,
   "id": "e56d59bc-e699-451d-a9bf-0c281ea9d53d",
   "metadata": {},
   "outputs": [
    {
     "data": {
      "text/html": [
       "<div>\n",
       "<style scoped>\n",
       "    .dataframe tbody tr th:only-of-type {\n",
       "        vertical-align: middle;\n",
       "    }\n",
       "\n",
       "    .dataframe tbody tr th {\n",
       "        vertical-align: top;\n",
       "    }\n",
       "\n",
       "    .dataframe thead th {\n",
       "        text-align: right;\n",
       "    }\n",
       "</style>\n",
       "<table border=\"1\" class=\"dataframe\">\n",
       "  <thead>\n",
       "    <tr style=\"text-align: right;\">\n",
       "      <th></th>\n",
       "      <th>name</th>\n",
       "      <th>Brand</th>\n",
       "      <th>mrpdecimal</th>\n",
       "      <th>sales_price_decimal</th>\n",
       "      <th>discountDecimal</th>\n",
       "      <th>discountPercent</th>\n",
       "    </tr>\n",
       "  </thead>\n",
       "  <tbody>\n",
       "    <tr>\n",
       "      <th>0</th>\n",
       "      <td>Beurer Upper Arm Blood Pressure Monitor - Bm 27</td>\n",
       "      <td>BEURER</td>\n",
       "      <td>3060 TK</td>\n",
       "      <td>1499.40 TK</td>\n",
       "      <td>1560.60</td>\n",
       "      <td>51 %</td>\n",
       "    </tr>\n",
       "    <tr>\n",
       "      <th>1</th>\n",
       "      <td>Bpl Bp Monitor B16</td>\n",
       "      <td>BPL</td>\n",
       "      <td>1730 TK</td>\n",
       "      <td>1730.00 TK</td>\n",
       "      <td>None</td>\n",
       "      <td>0 %</td>\n",
       "    </tr>\n",
       "    <tr>\n",
       "      <th>2</th>\n",
       "      <td>Dr. Odin Digital Blood Pressure Monitor White-...</td>\n",
       "      <td>DR.ODIN</td>\n",
       "      <td>1560 TK</td>\n",
       "      <td>1560.00 TK</td>\n",
       "      <td>None</td>\n",
       "      <td>0 %</td>\n",
       "    </tr>\n",
       "    <tr>\n",
       "      <th>3</th>\n",
       "      <td>Dr.odin Digital Blood Pressure Monitor (black)...</td>\n",
       "      <td>DR.ODIN</td>\n",
       "      <td>1570 TK</td>\n",
       "      <td>1570.00 TK</td>\n",
       "      <td>None</td>\n",
       "      <td>0 %</td>\n",
       "    </tr>\n",
       "    <tr>\n",
       "      <th>4</th>\n",
       "      <td>Beurer Bm 35 Upper Arm Blood Pressure Monitor</td>\n",
       "      <td>BEURER</td>\n",
       "      <td>2380 TK</td>\n",
       "      <td>2380.00 TK</td>\n",
       "      <td>None</td>\n",
       "      <td>0 %</td>\n",
       "    </tr>\n",
       "    <tr>\n",
       "      <th>5</th>\n",
       "      <td>Prozo Plus Fully Automatic Upper Arm Blood Pre...</td>\n",
       "      <td>PROZO PLUS</td>\n",
       "      <td>2499 TK</td>\n",
       "      <td>2499.00 TK</td>\n",
       "      <td>None</td>\n",
       "      <td>0 %</td>\n",
       "    </tr>\n",
       "    <tr>\n",
       "      <th>6</th>\n",
       "      <td>Ghi Gbp-002 Bp Monitor</td>\n",
       "      <td>GHI</td>\n",
       "      <td>2800 TK</td>\n",
       "      <td>2800.00 TK</td>\n",
       "      <td>None</td>\n",
       "      <td>0 %</td>\n",
       "    </tr>\n",
       "    <tr>\n",
       "      <th>7</th>\n",
       "      <td>Poct Pbm 01 Bp Monitor - 1pc</td>\n",
       "      <td>POCT</td>\n",
       "      <td>1500 TK</td>\n",
       "      <td>1500.00 TK</td>\n",
       "      <td>None</td>\n",
       "      <td>0 %</td>\n",
       "    </tr>\n",
       "    <tr>\n",
       "      <th>8</th>\n",
       "      <td>Easycare (german Tech)fully Automatic Digital ...</td>\n",
       "      <td>EASYCARE</td>\n",
       "      <td>1499 TK</td>\n",
       "      <td>1499.00 TK</td>\n",
       "      <td>None</td>\n",
       "      <td>0 %</td>\n",
       "    </tr>\n",
       "    <tr>\n",
       "      <th>9</th>\n",
       "      <td>Medlife Automatic Blood Pressure Monitor Device 1</td>\n",
       "      <td>MEDLIFE</td>\n",
       "      <td>2850 TK</td>\n",
       "      <td>855.00 TK</td>\n",
       "      <td>1995.00</td>\n",
       "      <td>70 %</td>\n",
       "    </tr>\n",
       "    <tr>\n",
       "      <th>10</th>\n",
       "      <td>Easycare Big Display Digital Blood Pressure Mo...</td>\n",
       "      <td>EASYCARE</td>\n",
       "      <td>3099 TK</td>\n",
       "      <td>3099.00 TK</td>\n",
       "      <td>None</td>\n",
       "      <td>0 %</td>\n",
       "    </tr>\n",
       "    <tr>\n",
       "      <th>11</th>\n",
       "      <td>Easycare (german Tech.) Digital Blood Pressure...</td>\n",
       "      <td>EASYCARE</td>\n",
       "      <td>1549 TK</td>\n",
       "      <td>1549.00 TK</td>\n",
       "      <td>None</td>\n",
       "      <td>0 %</td>\n",
       "    </tr>\n",
       "  </tbody>\n",
       "</table>\n",
       "</div>"
      ],
      "text/plain": [
       "                                                 name       Brand mrpdecimal  \\\n",
       "0     Beurer Upper Arm Blood Pressure Monitor - Bm 27      BEURER    3060 TK   \n",
       "1                                  Bpl Bp Monitor B16         BPL    1730 TK   \n",
       "2   Dr. Odin Digital Blood Pressure Monitor White-...     DR.ODIN    1560 TK   \n",
       "3   Dr.odin Digital Blood Pressure Monitor (black)...     DR.ODIN    1570 TK   \n",
       "4       Beurer Bm 35 Upper Arm Blood Pressure Monitor      BEURER    2380 TK   \n",
       "5   Prozo Plus Fully Automatic Upper Arm Blood Pre...  PROZO PLUS    2499 TK   \n",
       "6                              Ghi Gbp-002 Bp Monitor         GHI    2800 TK   \n",
       "7                        Poct Pbm 01 Bp Monitor - 1pc        POCT    1500 TK   \n",
       "8   Easycare (german Tech)fully Automatic Digital ...    EASYCARE    1499 TK   \n",
       "9   Medlife Automatic Blood Pressure Monitor Device 1     MEDLIFE    2850 TK   \n",
       "10  Easycare Big Display Digital Blood Pressure Mo...    EASYCARE    3099 TK   \n",
       "11  Easycare (german Tech.) Digital Blood Pressure...    EASYCARE    1549 TK   \n",
       "\n",
       "   sales_price_decimal discountDecimal discountPercent  \n",
       "0           1499.40 TK         1560.60            51 %  \n",
       "1           1730.00 TK            None             0 %  \n",
       "2           1560.00 TK            None             0 %  \n",
       "3           1570.00 TK            None             0 %  \n",
       "4           2380.00 TK            None             0 %  \n",
       "5           2499.00 TK            None             0 %  \n",
       "6           2800.00 TK            None             0 %  \n",
       "7           1500.00 TK            None             0 %  \n",
       "8           1499.00 TK            None             0 %  \n",
       "9            855.00 TK         1995.00            70 %  \n",
       "10          3099.00 TK            None             0 %  \n",
       "11          1549.00 TK            None             0 %  "
      ]
     },
     "execution_count": 19,
     "metadata": {},
     "output_type": "execute_result"
    }
   ],
   "source": [
    "import pandas as pd \n",
    "df= pd.DataFrame(data)\n",
    "df"
   ]
  },
  {
   "cell_type": "code",
   "execution_count": 21,
   "id": "a5c829e1-276c-41a8-85a6-8af5c537d72c",
   "metadata": {},
   "outputs": [],
   "source": [
    "df.to_csv('supliment_pharmeasy.csv',index=False)"
   ]
  },
  {
   "cell_type": "code",
   "execution_count": null,
   "id": "07c2b4e5-0e3e-4776-b0c5-47c545f4ed9c",
   "metadata": {},
   "outputs": [],
   "source": []
  }
 ],
 "metadata": {
  "kernelspec": {
   "display_name": "Python 3 (ipykernel)",
   "language": "python",
   "name": "python3"
  },
  "language_info": {
   "codemirror_mode": {
    "name": "ipython",
    "version": 3
   },
   "file_extension": ".py",
   "mimetype": "text/x-python",
   "name": "python",
   "nbconvert_exporter": "python",
   "pygments_lexer": "ipython3",
   "version": "3.9.12"
  }
 },
 "nbformat": 4,
 "nbformat_minor": 5
}
